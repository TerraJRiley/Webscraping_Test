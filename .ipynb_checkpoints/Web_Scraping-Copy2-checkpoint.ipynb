{
 "cells": [
  {
   "cell_type": "code",
   "execution_count": 1,
   "metadata": {},
   "outputs": [],
   "source": [
    "# Standard Imports for all notebooks\n",
    "import pandas as pd\n",
    "import numpy as np\n",
    "\n",
    "# Scraping Libraries\n",
    "from bs4 import BeautifulSoup\n",
    "import requests\n",
    "from selenium import webdriver\n",
    "from time import sleep\n",
    "import re\n",
    "from random import randint\n",
    "from selenium.webdriver.firefox.options import Options\n",
    "\n",
    "# Specific Imports as a result of ChatGPT's Suggested Code Functions\n",
    "from selenium.common.exceptions import StaleElementReferenceException, NoSuchElementException, TimeoutException\n",
    "from selenium.webdriver.common.by import By\n",
    "from selenium.webdriver.support.ui import WebDriverWait\n",
    "from selenium.webdriver.support import expected_conditions as EC\n"
   ]
  },
  {
   "cell_type": "code",
   "execution_count": 19,
   "metadata": {},
   "outputs": [],
   "source": [
    "def click_with_retry(driver, css_selector, max_attempts=5, wait_time=5, extra_scroll=150):\n",
    "    \"\"\"\n",
    "    Tries to find and click an element specified by the CSS selector.\n",
    "    Waits for the element to be visible and clickable.\n",
    "    Retries up to max_attempts times if StaleElementReferenceException is encountered.\n",
    "\n",
    "    :param driver: The Selenium WebDriver.\n",
    "    :param css_selector: CSS selector of the element to be clicked.\n",
    "    :param max_attempts: Maximum number of attempts to try clicking the element.\n",
    "    :param wait_time: Time to wait for the element to become visible and clickable.\n",
    "    :return: True if click was successful, False if it failed after max_attempts.\n",
    "    \"\"\"\n",
    "    for attempt in range(max_attempts):\n",
    "        try:\n",
    "            # Wait for the element to be visible\n",
    "            element = WebDriverWait(driver, wait_time).until(\n",
    "                EC.visibility_of_element_located((By.CSS_SELECTOR, css_selector))\n",
    "            )\n",
    "\n",
    "            # Scroll the element into view with extra space\n",
    "            driver.execute_script(\"window.scroll(0, arguments[0].getBoundingClientRect().top + window.pageYOffset - arguments[1]);\", element, extra_scroll)\n",
    "\n",
    "            # Wait for the element to be clickable\n",
    "            WebDriverWait(driver, wait_time).until(\n",
    "                EC.element_to_be_clickable((By.CSS_SELECTOR, css_selector))\n",
    "            )\n",
    "\n",
    "            # Click the element\n",
    "            element.click()\n",
    "            return True\n",
    "\n",
    "        except (StaleElementReferenceException, TimeoutException):\n",
    "            pass\n",
    "\n",
    "    return False"
   ]
  },
  {
   "cell_type": "code",
   "execution_count": 20,
   "metadata": {},
   "outputs": [],
   "source": [
    "def get_text_with_retry(driver, css_selector, max_attempts=5, wait_time=3, extra_scroll=150):\n",
    "    \"\"\"\n",
    "    Tries to find an element specified by the CSS selector and get its text.\n",
    "    Waits for the element to be visible.\n",
    "    Retries up to max_attempts times if StaleElementReferenceException is encountered.\n",
    "\n",
    "    :param driver: The Selenium WebDriver.\n",
    "    :param css_selector: CSS selector of the element.\n",
    "    :param max_attempts: Maximum number of attempts to try getting the text.\n",
    "    :param wait_time: Time to wait for the element to become visible.\n",
    "    :return: The text of the element if successful, None if it failed after max_attempts.\n",
    "    \"\"\"\n",
    "    for attempt in range(max_attempts):\n",
    "        try:\n",
    "            # Wait for the element to be visible\n",
    "            element = WebDriverWait(driver, wait_time).until(\n",
    "                EC.visibility_of_element_located((By.CSS_SELECTOR, css_selector))\n",
    "            )\n",
    "\n",
    "            # Scroll the element into view with extra space\n",
    "            driver.execute_script(\n",
    "                \"window.scroll(0, arguments[0].getBoundingClientRect().top + window.pageYOffset - arguments[1]);\", \n",
    "                element, extra_scroll)\n",
    "\n",
    "            # Return the text of the element\n",
    "            return element.text\n",
    "\n",
    "        except (StaleElementReferenceException, NoSuchElementException, TimeoutException):\n",
    "            pass\n",
    "\n",
    "    return None"
   ]
  },
  {
   "cell_type": "code",
   "execution_count": 4,
   "metadata": {},
   "outputs": [],
   "source": [
    "# Open the Selenium Window\n",
    "fun_options = Options()\n",
    "fun_driver = webdriver.Firefox(options=fun_options)\n",
    "fun_driver.get(\"https://www.facebook.com/\")"
   ]
  },
  {
   "cell_type": "code",
   "execution_count": 5,
   "metadata": {},
   "outputs": [
    {
     "name": "stderr",
     "output_type": "stream",
     "text": [
      "C:\\Users\\Peridot of Earth\\anaconda3\\lib\\site-packages\\IPython\\core\\interactiveshell.py:3146: DtypeWarning: Columns (0,1) have mixed types.Specify dtype option on import or set low_memory=False.\n",
      "  has_raised = await self.run_ast_nodes(code_ast.body, cell_name,\n"
     ]
    },
    {
     "data": {
      "text/html": [
       "<div>\n",
       "<style scoped>\n",
       "    .dataframe tbody tr th:only-of-type {\n",
       "        vertical-align: middle;\n",
       "    }\n",
       "\n",
       "    .dataframe tbody tr th {\n",
       "        vertical-align: top;\n",
       "    }\n",
       "\n",
       "    .dataframe thead th {\n",
       "        text-align: right;\n",
       "    }\n",
       "</style>\n",
       "<table border=\"1\" class=\"dataframe\">\n",
       "  <thead>\n",
       "    <tr style=\"text-align: right;\">\n",
       "      <th></th>\n",
       "      <th>Other_Number</th>\n",
       "      <th>Url_Key</th>\n",
       "      <th>Name_First</th>\n",
       "      <th>Name_Last</th>\n",
       "      <th>Gender</th>\n",
       "      <th>1</th>\n",
       "      <th>2</th>\n",
       "      <th>3</th>\n",
       "      <th>4</th>\n",
       "      <th>5</th>\n",
       "      <th>6</th>\n",
       "      <th>7</th>\n",
       "      <th>8</th>\n",
       "      <th>9</th>\n",
       "    </tr>\n",
       "  </thead>\n",
       "  <tbody>\n",
       "    <tr>\n",
       "      <th>0</th>\n",
       "      <td>12102965600</td>\n",
       "      <td>596897507</td>\n",
       "      <td>Sarah</td>\n",
       "      <td>Murphy</td>\n",
       "      <td>female</td>\n",
       "      <td>San Antonio, Texas</td>\n",
       "      <td>San Antonio, Texas</td>\n",
       "      <td>Married</td>\n",
       "      <td>Stay-at-home mom</td>\n",
       "      <td>12/5/2018 12</td>\n",
       "      <td>0.0</td>\n",
       "      <td>00 AM</td>\n",
       "      <td>NaN</td>\n",
       "      <td>NaN</td>\n",
       "    </tr>\n",
       "    <tr>\n",
       "      <th>1</th>\n",
       "      <td>12102965601</td>\n",
       "      <td>100028359581007</td>\n",
       "      <td>Victor</td>\n",
       "      <td>Ortiz</td>\n",
       "      <td>male</td>\n",
       "      <td>NaN</td>\n",
       "      <td>NaN</td>\n",
       "      <td>NaN</td>\n",
       "      <td>NaN</td>\n",
       "      <td>1/1/0001 12</td>\n",
       "      <td>0.0</td>\n",
       "      <td>00 AM</td>\n",
       "      <td>NaN</td>\n",
       "      <td>NaN</td>\n",
       "    </tr>\n",
       "    <tr>\n",
       "      <th>2</th>\n",
       "      <td>12102965607</td>\n",
       "      <td>1456394131</td>\n",
       "      <td>Alida</td>\n",
       "      <td>Canion</td>\n",
       "      <td>female</td>\n",
       "      <td>NaN</td>\n",
       "      <td>NaN</td>\n",
       "      <td>NaN</td>\n",
       "      <td>USAA</td>\n",
       "      <td>12/7/2015 12</td>\n",
       "      <td>0.0</td>\n",
       "      <td>00 AM</td>\n",
       "      <td>NaN</td>\n",
       "      <td>NaN</td>\n",
       "    </tr>\n",
       "    <tr>\n",
       "      <th>3</th>\n",
       "      <td>12102965613</td>\n",
       "      <td>100016005185942</td>\n",
       "      <td>Austin</td>\n",
       "      <td>Duerr</td>\n",
       "      <td>male</td>\n",
       "      <td>Somerset, Texas</td>\n",
       "      <td>San Antonio, Texas</td>\n",
       "      <td>NaN</td>\n",
       "      <td>AAA</td>\n",
       "      <td>11/29/2018 12</td>\n",
       "      <td>0.0</td>\n",
       "      <td>00 AM</td>\n",
       "      <td>NaN</td>\n",
       "      <td>NaN</td>\n",
       "    </tr>\n",
       "    <tr>\n",
       "      <th>4</th>\n",
       "      <td>12102965614</td>\n",
       "      <td>100009325868432</td>\n",
       "      <td>George</td>\n",
       "      <td>Gomez</td>\n",
       "      <td>male</td>\n",
       "      <td>San Antonio, Texas</td>\n",
       "      <td>San Antonio, Texas</td>\n",
       "      <td>Single</td>\n",
       "      <td>NaN</td>\n",
       "      <td>11/19/2018 12</td>\n",
       "      <td>0.0</td>\n",
       "      <td>00 AM</td>\n",
       "      <td>NaN</td>\n",
       "      <td>NaN</td>\n",
       "    </tr>\n",
       "  </tbody>\n",
       "</table>\n",
       "</div>"
      ],
      "text/plain": [
       "  Other_Number          Url_Key Name_First Name_Last  Gender  \\\n",
       "0  12102965600        596897507      Sarah    Murphy  female   \n",
       "1  12102965601  100028359581007     Victor     Ortiz    male   \n",
       "2  12102965607       1456394131      Alida    Canion  female   \n",
       "3  12102965613  100016005185942     Austin     Duerr    male   \n",
       "4  12102965614  100009325868432     George     Gomez    male   \n",
       "\n",
       "                    1                   2        3                 4  \\\n",
       "0  San Antonio, Texas  San Antonio, Texas  Married  Stay-at-home mom   \n",
       "1                 NaN                 NaN      NaN               NaN   \n",
       "2                 NaN                 NaN      NaN              USAA   \n",
       "3     Somerset, Texas  San Antonio, Texas      NaN               AAA   \n",
       "4  San Antonio, Texas  San Antonio, Texas   Single               NaN   \n",
       "\n",
       "               5    6      7    8    9  \n",
       "0   12/5/2018 12  0.0  00 AM  NaN  NaN  \n",
       "1    1/1/0001 12  0.0  00 AM  NaN  NaN  \n",
       "2   12/7/2015 12  0.0  00 AM  NaN  NaN  \n",
       "3  11/29/2018 12  0.0  00 AM  NaN  NaN  \n",
       "4  11/19/2018 12  0.0  00 AM  NaN  NaN  "
      ]
     },
     "execution_count": 5,
     "metadata": {},
     "output_type": "execute_result"
    }
   ],
   "source": [
    "df_sample = pd.read_csv(\"../Webscrape_Data/sample_edited.txt\", sep=\":\", header=None, \n",
    "                        names=[\"Other_Number\", \"Url_Key\", \"Name_First\", \"Name_Last\", \"Gender\",\n",
    "                               \"1\",\"2\",\"3\",\"4\",\"5\",\"6\",\"7\",\"8\",\"9\"])\n",
    "df_sample['Url_Key'] = df_sample['Url_Key'].astype(str)\n",
    "\n",
    "df_sample.head()"
   ]
  },
  {
   "cell_type": "code",
   "execution_count": 13,
   "metadata": {},
   "outputs": [
    {
     "data": {
      "text/html": [
       "<div>\n",
       "<style scoped>\n",
       "    .dataframe tbody tr th:only-of-type {\n",
       "        vertical-align: middle;\n",
       "    }\n",
       "\n",
       "    .dataframe tbody tr th {\n",
       "        vertical-align: top;\n",
       "    }\n",
       "\n",
       "    .dataframe thead th {\n",
       "        text-align: right;\n",
       "    }\n",
       "</style>\n",
       "<table border=\"1\" class=\"dataframe\">\n",
       "  <thead>\n",
       "    <tr style=\"text-align: right;\">\n",
       "      <th></th>\n",
       "      <th>Url_Key</th>\n",
       "      <th>Profile Picture Link</th>\n",
       "      <th>Name</th>\n",
       "      <th>Num_Friends</th>\n",
       "      <th>Intro 1</th>\n",
       "      <th>Intro 2</th>\n",
       "      <th>Intro 3</th>\n",
       "      <th>Intro 4</th>\n",
       "      <th>Intro 5</th>\n",
       "      <th>Overview (About)</th>\n",
       "      <th>...</th>\n",
       "      <th>Privacy and legal info</th>\n",
       "      <th>Profile transparency</th>\n",
       "      <th>Details About Sharla</th>\n",
       "      <th>Details About T.j.</th>\n",
       "      <th>Details About Alison</th>\n",
       "      <th>Details About Janel</th>\n",
       "      <th>Details About Nelson</th>\n",
       "      <th>Details About Carlos</th>\n",
       "      <th>Details About Zoey</th>\n",
       "      <th>Details About Sheryl</th>\n",
       "    </tr>\n",
       "  </thead>\n",
       "  <tbody>\n",
       "    <tr>\n",
       "      <th>201</th>\n",
       "      <td>100002576311113</td>\n",
       "      <td>https://scontent-sjc3-1.xx.fbcdn.net/v/t1.1816...</td>\n",
       "      <td>Sheryl Guynn</td>\n",
       "      <td>187.0</td>\n",
       "      <td>Studied Personnel Management &amp; Industrial Rela...</td>\n",
       "      <td>Studied Elementary Education at University of ...</td>\n",
       "      <td>Went to Logan - Rogersville High</td>\n",
       "      <td>Lives in San Antonio, Texas</td>\n",
       "      <td>NaN</td>\n",
       "      <td>No workplaces to show\\nStudied Personnel Manag...</td>\n",
       "      <td>...</td>\n",
       "      <td>NaN</td>\n",
       "      <td>NaN</td>\n",
       "      <td>NaN</td>\n",
       "      <td>NaN</td>\n",
       "      <td>NaN</td>\n",
       "      <td>NaN</td>\n",
       "      <td>NaN</td>\n",
       "      <td>NaN</td>\n",
       "      <td>NaN</td>\n",
       "      <td>About Sheryl\\nNo additional details to show\\nN...</td>\n",
       "    </tr>\n",
       "    <tr>\n",
       "      <th>202</th>\n",
       "      <td>100023242032599</td>\n",
       "      <td>NaN</td>\n",
       "      <td>Scraper 2 has dibs!</td>\n",
       "      <td>NaN</td>\n",
       "      <td>NaN</td>\n",
       "      <td>NaN</td>\n",
       "      <td>NaN</td>\n",
       "      <td>NaN</td>\n",
       "      <td>NaN</td>\n",
       "      <td>NaN</td>\n",
       "      <td>...</td>\n",
       "      <td>NaN</td>\n",
       "      <td>NaN</td>\n",
       "      <td>NaN</td>\n",
       "      <td>NaN</td>\n",
       "      <td>NaN</td>\n",
       "      <td>NaN</td>\n",
       "      <td>NaN</td>\n",
       "      <td>NaN</td>\n",
       "      <td>NaN</td>\n",
       "      <td>NaN</td>\n",
       "    </tr>\n",
       "    <tr>\n",
       "      <th>203</th>\n",
       "      <td>100006679383385</td>\n",
       "      <td>NaN</td>\n",
       "      <td>Scraper 1 has dibs!</td>\n",
       "      <td>NaN</td>\n",
       "      <td>NaN</td>\n",
       "      <td>NaN</td>\n",
       "      <td>NaN</td>\n",
       "      <td>NaN</td>\n",
       "      <td>NaN</td>\n",
       "      <td>NaN</td>\n",
       "      <td>...</td>\n",
       "      <td>NaN</td>\n",
       "      <td>NaN</td>\n",
       "      <td>NaN</td>\n",
       "      <td>NaN</td>\n",
       "      <td>NaN</td>\n",
       "      <td>NaN</td>\n",
       "      <td>NaN</td>\n",
       "      <td>NaN</td>\n",
       "      <td>NaN</td>\n",
       "      <td>NaN</td>\n",
       "    </tr>\n",
       "    <tr>\n",
       "      <th>204</th>\n",
       "      <td>100006679383385</td>\n",
       "      <td>NaN</td>\n",
       "      <td>Scrape Failed</td>\n",
       "      <td>NaN</td>\n",
       "      <td>NaN</td>\n",
       "      <td>NaN</td>\n",
       "      <td>NaN</td>\n",
       "      <td>NaN</td>\n",
       "      <td>NaN</td>\n",
       "      <td>NaN</td>\n",
       "      <td>...</td>\n",
       "      <td>NaN</td>\n",
       "      <td>NaN</td>\n",
       "      <td>NaN</td>\n",
       "      <td>NaN</td>\n",
       "      <td>NaN</td>\n",
       "      <td>NaN</td>\n",
       "      <td>NaN</td>\n",
       "      <td>NaN</td>\n",
       "      <td>NaN</td>\n",
       "      <td>NaN</td>\n",
       "    </tr>\n",
       "    <tr>\n",
       "      <th>205</th>\n",
       "      <td>100028812965808</td>\n",
       "      <td>NaN</td>\n",
       "      <td>Scraper 1 has dibs!</td>\n",
       "      <td>NaN</td>\n",
       "      <td>NaN</td>\n",
       "      <td>NaN</td>\n",
       "      <td>NaN</td>\n",
       "      <td>NaN</td>\n",
       "      <td>NaN</td>\n",
       "      <td>NaN</td>\n",
       "      <td>...</td>\n",
       "      <td>NaN</td>\n",
       "      <td>NaN</td>\n",
       "      <td>NaN</td>\n",
       "      <td>NaN</td>\n",
       "      <td>NaN</td>\n",
       "      <td>NaN</td>\n",
       "      <td>NaN</td>\n",
       "      <td>NaN</td>\n",
       "      <td>NaN</td>\n",
       "      <td>NaN</td>\n",
       "    </tr>\n",
       "  </tbody>\n",
       "</table>\n",
       "<p>5 rows × 80 columns</p>\n",
       "</div>"
      ],
      "text/plain": [
       "             Url_Key                               Profile Picture Link  \\\n",
       "201  100002576311113  https://scontent-sjc3-1.xx.fbcdn.net/v/t1.1816...   \n",
       "202  100023242032599                                                NaN   \n",
       "203  100006679383385                                                NaN   \n",
       "204  100006679383385                                                NaN   \n",
       "205  100028812965808                                                NaN   \n",
       "\n",
       "                    Name  Num_Friends  \\\n",
       "201        Sheryl Guynn         187.0   \n",
       "202  Scraper 2 has dibs!          NaN   \n",
       "203  Scraper 1 has dibs!          NaN   \n",
       "204        Scrape Failed          NaN   \n",
       "205  Scraper 1 has dibs!          NaN   \n",
       "\n",
       "                                               Intro 1  \\\n",
       "201  Studied Personnel Management & Industrial Rela...   \n",
       "202                                                NaN   \n",
       "203                                                NaN   \n",
       "204                                                NaN   \n",
       "205                                                NaN   \n",
       "\n",
       "                                               Intro 2  \\\n",
       "201  Studied Elementary Education at University of ...   \n",
       "202                                                NaN   \n",
       "203                                                NaN   \n",
       "204                                                NaN   \n",
       "205                                                NaN   \n",
       "\n",
       "                              Intro 3                      Intro 4 Intro 5  \\\n",
       "201  Went to Logan - Rogersville High  Lives in San Antonio, Texas     NaN   \n",
       "202                               NaN                          NaN     NaN   \n",
       "203                               NaN                          NaN     NaN   \n",
       "204                               NaN                          NaN     NaN   \n",
       "205                               NaN                          NaN     NaN   \n",
       "\n",
       "                                      Overview (About)  ...  \\\n",
       "201  No workplaces to show\\nStudied Personnel Manag...  ...   \n",
       "202                                                NaN  ...   \n",
       "203                                                NaN  ...   \n",
       "204                                                NaN  ...   \n",
       "205                                                NaN  ...   \n",
       "\n",
       "    Privacy and legal info Profile transparency Details About Sharla  \\\n",
       "201                    NaN                  NaN                  NaN   \n",
       "202                    NaN                  NaN                  NaN   \n",
       "203                    NaN                  NaN                  NaN   \n",
       "204                    NaN                  NaN                  NaN   \n",
       "205                    NaN                  NaN                  NaN   \n",
       "\n",
       "    Details About T.j. Details About Alison Details About Janel  \\\n",
       "201                NaN                  NaN                 NaN   \n",
       "202                NaN                  NaN                 NaN   \n",
       "203                NaN                  NaN                 NaN   \n",
       "204                NaN                  NaN                 NaN   \n",
       "205                NaN                  NaN                 NaN   \n",
       "\n",
       "    Details About Nelson Details About Carlos Details About Zoey  \\\n",
       "201                  NaN                  NaN                NaN   \n",
       "202                  NaN                  NaN                NaN   \n",
       "203                  NaN                  NaN                NaN   \n",
       "204                  NaN                  NaN                NaN   \n",
       "205                  NaN                  NaN                NaN   \n",
       "\n",
       "                                  Details About Sheryl  \n",
       "201  About Sheryl\\nNo additional details to show\\nN...  \n",
       "202                                                NaN  \n",
       "203                                                NaN  \n",
       "204                                                NaN  \n",
       "205                                                NaN  \n",
       "\n",
       "[5 rows x 80 columns]"
      ]
     },
     "execution_count": 13,
     "metadata": {},
     "output_type": "execute_result"
    }
   ],
   "source": [
    "df_scraped = pd.read_csv(\"../Webscrape_Data/scraped_data.csv\")\n",
    "df_scraped.tail(5)"
   ]
  },
  {
   "cell_type": "code",
   "execution_count": 26,
   "metadata": {
    "scrolled": true
   },
   "outputs": [
    {
     "name": "stderr",
     "output_type": "stream",
     "text": [
      "b'Skipping line 54: expected 65 fields, saw 221\\nSkipping line 55: expected 65 fields, saw 230\\nSkipping line 56: expected 65 fields, saw 230\\nSkipping line 57: expected 65 fields, saw 230\\nSkipping line 58: expected 65 fields, saw 230\\nSkipping line 59: expected 65 fields, saw 230\\nSkipping line 60: expected 65 fields, saw 230\\nSkipping line 61: expected 65 fields, saw 230\\nSkipping line 62: expected 65 fields, saw 230\\nSkipping line 63: expected 65 fields, saw 230\\nSkipping line 64: expected 65 fields, saw 230\\nSkipping line 65: expected 65 fields, saw 230\\nSkipping line 66: expected 65 fields, saw 230\\nSkipping line 67: expected 65 fields, saw 230\\nSkipping line 68: expected 65 fields, saw 230\\nSkipping line 69: expected 65 fields, saw 230\\nSkipping line 70: expected 65 fields, saw 230\\nSkipping line 71: expected 65 fields, saw 230\\nSkipping line 72: expected 65 fields, saw 230\\nSkipping line 73: expected 65 fields, saw 230\\nSkipping line 74: expected 65 fields, saw 230\\nSkipping line 75: expected 65 fields, saw 230\\nSkipping line 76: expected 65 fields, saw 230\\nSkipping line 77: expected 65 fields, saw 230\\nSkipping line 78: expected 65 fields, saw 230\\nSkipping line 79: expected 65 fields, saw 230\\nSkipping line 80: expected 65 fields, saw 230\\nSkipping line 81: expected 65 fields, saw 230\\nSkipping line 82: expected 65 fields, saw 230\\nSkipping line 83: expected 65 fields, saw 230\\nSkipping line 84: expected 65 fields, saw 230\\nSkipping line 85: expected 65 fields, saw 230\\nSkipping line 86: expected 65 fields, saw 230\\nSkipping line 87: expected 65 fields, saw 230\\nSkipping line 88: expected 65 fields, saw 230\\nSkipping line 89: expected 65 fields, saw 230\\nSkipping line 90: expected 65 fields, saw 230\\nSkipping line 91: expected 65 fields, saw 230\\nSkipping line 92: expected 65 fields, saw 230\\nSkipping line 93: expected 65 fields, saw 230\\nSkipping line 94: expected 65 fields, saw 230\\nSkipping line 95: expected 65 fields, saw 230\\nSkipping line 96: expected 65 fields, saw 230\\nSkipping line 97: expected 65 fields, saw 230\\nSkipping line 98: expected 65 fields, saw 230\\nSkipping line 99: expected 65 fields, saw 230\\nSkipping line 100: expected 65 fields, saw 230\\nSkipping line 101: expected 65 fields, saw 230\\nSkipping line 102: expected 65 fields, saw 230\\nSkipping line 103: expected 65 fields, saw 230\\nSkipping line 104: expected 65 fields, saw 230\\nSkipping line 105: expected 65 fields, saw 230\\nSkipping line 106: expected 65 fields, saw 230\\nSkipping line 107: expected 65 fields, saw 230\\nSkipping line 108: expected 65 fields, saw 230\\nSkipping line 109: expected 65 fields, saw 230\\nSkipping line 110: expected 65 fields, saw 230\\nSkipping line 111: expected 65 fields, saw 230\\nSkipping line 112: expected 65 fields, saw 230\\nSkipping line 113: expected 65 fields, saw 230\\nSkipping line 114: expected 65 fields, saw 230\\nSkipping line 115: expected 65 fields, saw 230\\nSkipping line 116: expected 65 fields, saw 230\\nSkipping line 117: expected 65 fields, saw 230\\nSkipping line 118: expected 65 fields, saw 230\\nSkipping line 119: expected 65 fields, saw 230\\nSkipping line 120: expected 65 fields, saw 230\\nSkipping line 121: expected 65 fields, saw 230\\nSkipping line 122: expected 65 fields, saw 230\\nSkipping line 123: expected 65 fields, saw 230\\nSkipping line 124: expected 65 fields, saw 230\\nSkipping line 125: expected 65 fields, saw 230\\nSkipping line 126: expected 65 fields, saw 230\\nSkipping line 127: expected 65 fields, saw 230\\nSkipping line 128: expected 65 fields, saw 230\\nSkipping line 129: expected 65 fields, saw 230\\nSkipping line 130: expected 65 fields, saw 230\\nSkipping line 131: expected 65 fields, saw 230\\nSkipping line 132: expected 65 fields, saw 230\\nSkipping line 133: expected 65 fields, saw 230\\nSkipping line 134: expected 65 fields, saw 230\\nSkipping line 135: expected 65 fields, saw 230\\nSkipping line 136: expected 65 fields, saw 230\\nSkipping line 137: expected 65 fields, saw 230\\nSkipping line 138: expected 65 fields, saw 230\\nSkipping line 139: expected 65 fields, saw 230\\nSkipping line 140: expected 65 fields, saw 230\\nSkipping line 141: expected 65 fields, saw 230\\nSkipping line 142: expected 65 fields, saw 230\\nSkipping line 143: expected 65 fields, saw 230\\nSkipping line 144: expected 65 fields, saw 230\\nSkipping line 145: expected 65 fields, saw 230\\nSkipping line 146: expected 65 fields, saw 230\\nSkipping line 147: expected 65 fields, saw 230\\nSkipping line 148: expected 65 fields, saw 230\\nSkipping line 149: expected 65 fields, saw 230\\nSkipping line 150: expected 65 fields, saw 230\\nSkipping line 151: expected 65 fields, saw 230\\nSkipping line 152: expected 65 fields, saw 230\\nSkipping line 153: expected 65 fields, saw 230\\nSkipping line 154: expected 65 fields, saw 230\\nSkipping line 155: expected 65 fields, saw 230\\nSkipping line 156: expected 65 fields, saw 230\\nSkipping line 157: expected 65 fields, saw 230\\nSkipping line 158: expected 65 fields, saw 230\\nSkipping line 159: expected 65 fields, saw 230\\nSkipping line 160: expected 65 fields, saw 230\\nSkipping line 161: expected 65 fields, saw 230\\nSkipping line 162: expected 65 fields, saw 230\\nSkipping line 163: expected 65 fields, saw 230\\nSkipping line 164: expected 65 fields, saw 230\\nSkipping line 165: expected 65 fields, saw 230\\nSkipping line 166: expected 65 fields, saw 230\\nSkipping line 167: expected 65 fields, saw 230\\nSkipping line 168: expected 65 fields, saw 230\\nSkipping line 169: expected 65 fields, saw 230\\nSkipping line 170: expected 65 fields, saw 230\\nSkipping line 171: expected 65 fields, saw 230\\nSkipping line 172: expected 65 fields, saw 230\\nSkipping line 173: expected 65 fields, saw 230\\nSkipping line 174: expected 65 fields, saw 230\\nSkipping line 175: expected 65 fields, saw 230\\nSkipping line 176: expected 65 fields, saw 230\\nSkipping line 177: expected 65 fields, saw 230\\nSkipping line 178: expected 65 fields, saw 230\\nSkipping line 179: expected 65 fields, saw 230\\nSkipping line 180: expected 65 fields, saw 230\\nSkipping line 181: expected 65 fields, saw 230\\nSkipping line 182: expected 65 fields, saw 230\\nSkipping line 183: expected 65 fields, saw 230\\nSkipping line 184: expected 65 fields, saw 230\\nSkipping line 185: expected 65 fields, saw 230\\nSkipping line 186: expected 65 fields, saw 230\\nSkipping line 187: expected 65 fields, saw 230\\nSkipping line 188: expected 65 fields, saw 230\\nSkipping line 189: expected 65 fields, saw 230\\nSkipping line 190: expected 65 fields, saw 230\\nSkipping line 191: expected 65 fields, saw 230\\nSkipping line 192: expected 65 fields, saw 230\\nSkipping line 193: expected 65 fields, saw 230\\nSkipping line 194: expected 65 fields, saw 230\\nSkipping line 195: expected 65 fields, saw 230\\nSkipping line 196: expected 65 fields, saw 230\\nSkipping line 197: expected 65 fields, saw 230\\nSkipping line 198: expected 65 fields, saw 230\\nSkipping line 199: expected 65 fields, saw 230\\nSkipping line 200: expected 65 fields, saw 230\\nSkipping line 201: expected 65 fields, saw 230\\nSkipping line 202: expected 65 fields, saw 230\\nSkipping line 203: expected 65 fields, saw 230\\nSkipping line 204: expected 65 fields, saw 230\\nSkipping line 205: expected 65 fields, saw 230\\nSkipping line 206: expected 65 fields, saw 230\\nSkipping line 207: expected 65 fields, saw 230\\nSkipping line 208: expected 65 fields, saw 230\\nSkipping line 209: expected 65 fields, saw 230\\nSkipping line 210: expected 65 fields, saw 230\\nSkipping line 211: expected 65 fields, saw 230\\nSkipping line 212: expected 65 fields, saw 230\\nSkipping line 213: expected 65 fields, saw 230\\nSkipping line 214: expected 65 fields, saw 230\\nSkipping line 215: expected 65 fields, saw 230\\nSkipping line 216: expected 65 fields, saw 230\\nSkipping line 217: expected 65 fields, saw 230\\nSkipping line 218: expected 65 fields, saw 230\\nSkipping line 219: expected 65 fields, saw 230\\nSkipping line 220: expected 65 fields, saw 230\\nSkipping line 221: expected 65 fields, saw 230\\nSkipping line 222: expected 65 fields, saw 230\\nSkipping line 223: expected 65 fields, saw 230\\nSkipping line 224: expected 65 fields, saw 230\\nSkipping line 225: expected 65 fields, saw 230\\nSkipping line 226: expected 65 fields, saw 230\\nSkipping line 227: expected 65 fields, saw 230\\nSkipping line 228: expected 65 fields, saw 230\\nSkipping line 229: expected 65 fields, saw 230\\nSkipping line 230: expected 65 fields, saw 230\\nSkipping line 231: expected 65 fields, saw 230\\nSkipping line 232: expected 65 fields, saw 230\\nSkipping line 233: expected 65 fields, saw 230\\nSkipping line 234: expected 65 fields, saw 230\\nSkipping line 235: expected 65 fields, saw 230\\nSkipping line 236: expected 65 fields, saw 230\\nSkipping line 237: expected 65 fields, saw 230\\nSkipping line 238: expected 65 fields, saw 230\\nSkipping line 239: expected 65 fields, saw 230\\nSkipping line 240: expected 65 fields, saw 230\\nSkipping line 241: expected 65 fields, saw 230\\nSkipping line 242: expected 65 fields, saw 230\\nSkipping line 243: expected 65 fields, saw 230\\nSkipping line 244: expected 65 fields, saw 230\\nSkipping line 245: expected 65 fields, saw 230\\nSkipping line 246: expected 65 fields, saw 230\\nSkipping line 247: expected 65 fields, saw 230\\nSkipping line 248: expected 65 fields, saw 230\\nSkipping line 249: expected 65 fields, saw 230\\nSkipping line 250: expected 65 fields, saw 230\\nSkipping line 251: expected 65 fields, saw 230\\nSkipping line 252: expected 65 fields, saw 230\\nSkipping line 253: expected 65 fields, saw 230\\nSkipping line 254: expected 65 fields, saw 230\\nSkipping line 255: expected 65 fields, saw 230\\nSkipping line 256: expected 65 fields, saw 230\\nSkipping line 257: expected 65 fields, saw 230\\nSkipping line 258: expected 65 fields, saw 230\\nSkipping line 259: expected 65 fields, saw 230\\nSkipping line 260: expected 65 fields, saw 230\\nSkipping line 261: expected 65 fields, saw 230\\nSkipping line 262: expected 65 fields, saw 230\\nSkipping line 263: expected 65 fields, saw 230\\nSkipping line 264: expected 65 fields, saw 230\\nSkipping line 265: expected 65 fields, saw 230\\nSkipping line 266: expected 65 fields, saw 230\\nSkipping line 267: expected 65 fields, saw 230\\nSkipping line 268: expected 65 fields, saw 230\\nSkipping line 269: expected 65 fields, saw 230\\nSkipping line 270: expected 65 fields, saw 230\\nSkipping line 271: expected 65 fields, saw 230\\nSkipping line 272: expected 65 fields, saw 230\\nSkipping line 273: expected 65 fields, saw 230\\nSkipping line 274: expected 65 fields, saw 230\\nSkipping line 275: expected 65 fields, saw 230\\nSkipping line 276: expected 65 fields, saw 230\\nSkipping line 277: expected 65 fields, saw 230\\nSkipping line 278: expected 65 fields, saw 230\\nSkipping line 279: expected 65 fields, saw 230\\nSkipping line 280: expected 65 fields, saw 230\\nSkipping line 281: expected 65 fields, saw 230\\nSkipping line 282: expected 65 fields, saw 230\\nSkipping line 283: expected 65 fields, saw 230\\nSkipping line 284: expected 65 fields, saw 230\\nSkipping line 285: expected 65 fields, saw 230\\nSkipping line 286: expected 65 fields, saw 230\\nSkipping line 287: expected 65 fields, saw 230\\nSkipping line 288: expected 65 fields, saw 230\\nSkipping line 289: expected 65 fields, saw 230\\nSkipping line 290: expected 65 fields, saw 230\\nSkipping line 291: expected 65 fields, saw 230\\nSkipping line 292: expected 65 fields, saw 230\\nSkipping line 293: expected 65 fields, saw 230\\nSkipping line 294: expected 65 fields, saw 230\\nSkipping line 295: expected 65 fields, saw 230\\nSkipping line 296: expected 65 fields, saw 230\\nSkipping line 297: expected 65 fields, saw 230\\nSkipping line 298: expected 65 fields, saw 230\\nSkipping line 299: expected 65 fields, saw 230\\nSkipping line 300: expected 65 fields, saw 230\\nSkipping line 301: expected 65 fields, saw 230\\nSkipping line 302: expected 65 fields, saw 230\\nSkipping line 303: expected 65 fields, saw 230\\nSkipping line 304: expected 65 fields, saw 230\\nSkipping line 305: expected 65 fields, saw 230\\nSkipping line 306: expected 65 fields, saw 230\\nSkipping line 307: expected 65 fields, saw 230\\nSkipping line 308: expected 65 fields, saw 230\\nSkipping line 309: expected 65 fields, saw 230\\nSkipping line 310: expected 65 fields, saw 230\\nSkipping line 311: expected 65 fields, saw 230\\nSkipping line 312: expected 65 fields, saw 230\\nSkipping line 313: expected 65 fields, saw 230\\nSkipping line 314: expected 65 fields, saw 230\\nSkipping line 315: expected 65 fields, saw 230\\nSkipping line 316: expected 65 fields, saw 230\\nSkipping line 317: expected 65 fields, saw 230\\nSkipping line 318: expected 65 fields, saw 230\\nSkipping line 319: expected 65 fields, saw 230\\nSkipping line 320: expected 65 fields, saw 230\\nSkipping line 321: expected 65 fields, saw 230\\nSkipping line 322: expected 65 fields, saw 230\\nSkipping line 323: expected 65 fields, saw 230\\nSkipping line 324: expected 65 fields, saw 230\\nSkipping line 325: expected 65 fields, saw 230\\nSkipping line 326: expected 65 fields, saw 230\\nSkipping line 327: expected 65 fields, saw 230\\nSkipping line 328: expected 65 fields, saw 230\\nSkipping line 329: expected 65 fields, saw 230\\nSkipping line 330: expected 65 fields, saw 230\\nSkipping line 331: expected 65 fields, saw 230\\nSkipping line 332: expected 65 fields, saw 230\\nSkipping line 333: expected 65 fields, saw 230\\nSkipping line 334: expected 65 fields, saw 230\\nSkipping line 335: expected 65 fields, saw 230\\nSkipping line 336: expected 65 fields, saw 230\\nSkipping line 337: expected 65 fields, saw 230\\nSkipping line 338: expected 65 fields, saw 230\\nSkipping line 339: expected 65 fields, saw 230\\nSkipping line 340: expected 65 fields, saw 230\\nSkipping line 341: expected 65 fields, saw 230\\nSkipping line 342: expected 65 fields, saw 230\\nSkipping line 343: expected 65 fields, saw 230\\n'\n"
     ]
    },
    {
     "ename": "KeyboardInterrupt",
     "evalue": "",
     "output_type": "error",
     "traceback": [
      "\u001b[1;31m---------------------------------------------------------------------------\u001b[0m",
      "\u001b[1;31mKeyboardInterrupt\u001b[0m                         Traceback (most recent call last)",
      "\u001b[1;32m<ipython-input-26-c0c19638f41a>\u001b[0m in \u001b[0;36m<module>\u001b[1;34m\u001b[0m\n\u001b[0;32m     16\u001b[0m \u001b[1;33m\u001b[0m\u001b[0m\n\u001b[0;32m     17\u001b[0m \u001b[1;33m\u001b[0m\u001b[0m\n\u001b[1;32m---> 18\u001b[1;33m         \u001b[0mfun_driver\u001b[0m\u001b[1;33m.\u001b[0m\u001b[0mget\u001b[0m\u001b[1;33m(\u001b[0m\u001b[1;34m\"https://www.facebook.com/\"\u001b[0m \u001b[1;33m+\u001b[0m \u001b[0mUrl_Key\u001b[0m\u001b[1;33m)\u001b[0m\u001b[1;33m\u001b[0m\u001b[1;33m\u001b[0m\u001b[0m\n\u001b[0m\u001b[0;32m     19\u001b[0m         \u001b[1;31m# Gather data using Url_Key\u001b[0m\u001b[1;33m\u001b[0m\u001b[1;33m\u001b[0m\u001b[1;33m\u001b[0m\u001b[0m\n\u001b[0;32m     20\u001b[0m         \u001b[0mdict_person\u001b[0m \u001b[1;33m=\u001b[0m \u001b[1;33m{\u001b[0m\u001b[1;34m\"Url_Key\"\u001b[0m \u001b[1;33m:\u001b[0m \u001b[0mUrl_Key\u001b[0m\u001b[1;33m}\u001b[0m\u001b[1;33m\u001b[0m\u001b[1;33m\u001b[0m\u001b[0m\n",
      "\u001b[1;32m~\\anaconda3\\lib\\site-packages\\selenium\\webdriver\\remote\\webdriver.py\u001b[0m in \u001b[0;36mget\u001b[1;34m(self, url)\u001b[0m\n\u001b[0;32m    353\u001b[0m     \u001b[1;32mdef\u001b[0m \u001b[0mget\u001b[0m\u001b[1;33m(\u001b[0m\u001b[0mself\u001b[0m\u001b[1;33m,\u001b[0m \u001b[0murl\u001b[0m\u001b[1;33m:\u001b[0m \u001b[0mstr\u001b[0m\u001b[1;33m)\u001b[0m \u001b[1;33m->\u001b[0m \u001b[1;32mNone\u001b[0m\u001b[1;33m:\u001b[0m\u001b[1;33m\u001b[0m\u001b[1;33m\u001b[0m\u001b[0m\n\u001b[0;32m    354\u001b[0m         \u001b[1;34m\"\"\"Loads a web page in the current browser session.\"\"\"\u001b[0m\u001b[1;33m\u001b[0m\u001b[1;33m\u001b[0m\u001b[0m\n\u001b[1;32m--> 355\u001b[1;33m         \u001b[0mself\u001b[0m\u001b[1;33m.\u001b[0m\u001b[0mexecute\u001b[0m\u001b[1;33m(\u001b[0m\u001b[0mCommand\u001b[0m\u001b[1;33m.\u001b[0m\u001b[0mGET\u001b[0m\u001b[1;33m,\u001b[0m \u001b[1;33m{\u001b[0m\u001b[1;34m\"url\"\u001b[0m\u001b[1;33m:\u001b[0m \u001b[0murl\u001b[0m\u001b[1;33m}\u001b[0m\u001b[1;33m)\u001b[0m\u001b[1;33m\u001b[0m\u001b[1;33m\u001b[0m\u001b[0m\n\u001b[0m\u001b[0;32m    356\u001b[0m \u001b[1;33m\u001b[0m\u001b[0m\n\u001b[0;32m    357\u001b[0m     \u001b[1;33m@\u001b[0m\u001b[0mproperty\u001b[0m\u001b[1;33m\u001b[0m\u001b[1;33m\u001b[0m\u001b[0m\n",
      "\u001b[1;32m~\\anaconda3\\lib\\site-packages\\selenium\\webdriver\\remote\\webdriver.py\u001b[0m in \u001b[0;36mexecute\u001b[1;34m(self, driver_command, params)\u001b[0m\n\u001b[0;32m    342\u001b[0m                 \u001b[0mparams\u001b[0m\u001b[1;33m[\u001b[0m\u001b[1;34m\"sessionId\"\u001b[0m\u001b[1;33m]\u001b[0m \u001b[1;33m=\u001b[0m \u001b[0mself\u001b[0m\u001b[1;33m.\u001b[0m\u001b[0msession_id\u001b[0m\u001b[1;33m\u001b[0m\u001b[1;33m\u001b[0m\u001b[0m\n\u001b[0;32m    343\u001b[0m \u001b[1;33m\u001b[0m\u001b[0m\n\u001b[1;32m--> 344\u001b[1;33m         \u001b[0mresponse\u001b[0m \u001b[1;33m=\u001b[0m \u001b[0mself\u001b[0m\u001b[1;33m.\u001b[0m\u001b[0mcommand_executor\u001b[0m\u001b[1;33m.\u001b[0m\u001b[0mexecute\u001b[0m\u001b[1;33m(\u001b[0m\u001b[0mdriver_command\u001b[0m\u001b[1;33m,\u001b[0m \u001b[0mparams\u001b[0m\u001b[1;33m)\u001b[0m\u001b[1;33m\u001b[0m\u001b[1;33m\u001b[0m\u001b[0m\n\u001b[0m\u001b[0;32m    345\u001b[0m         \u001b[1;32mif\u001b[0m \u001b[0mresponse\u001b[0m\u001b[1;33m:\u001b[0m\u001b[1;33m\u001b[0m\u001b[1;33m\u001b[0m\u001b[0m\n\u001b[0;32m    346\u001b[0m             \u001b[0mself\u001b[0m\u001b[1;33m.\u001b[0m\u001b[0merror_handler\u001b[0m\u001b[1;33m.\u001b[0m\u001b[0mcheck_response\u001b[0m\u001b[1;33m(\u001b[0m\u001b[0mresponse\u001b[0m\u001b[1;33m)\u001b[0m\u001b[1;33m\u001b[0m\u001b[1;33m\u001b[0m\u001b[0m\n",
      "\u001b[1;32m~\\anaconda3\\lib\\site-packages\\selenium\\webdriver\\remote\\remote_connection.py\u001b[0m in \u001b[0;36mexecute\u001b[1;34m(self, command, params)\u001b[0m\n\u001b[0;32m    288\u001b[0m         \u001b[0mdata\u001b[0m \u001b[1;33m=\u001b[0m \u001b[0mutils\u001b[0m\u001b[1;33m.\u001b[0m\u001b[0mdump_json\u001b[0m\u001b[1;33m(\u001b[0m\u001b[0mparams\u001b[0m\u001b[1;33m)\u001b[0m\u001b[1;33m\u001b[0m\u001b[1;33m\u001b[0m\u001b[0m\n\u001b[0;32m    289\u001b[0m         \u001b[0murl\u001b[0m \u001b[1;33m=\u001b[0m \u001b[1;34mf\"{self._url}{path}\"\u001b[0m\u001b[1;33m\u001b[0m\u001b[1;33m\u001b[0m\u001b[0m\n\u001b[1;32m--> 290\u001b[1;33m         \u001b[1;32mreturn\u001b[0m \u001b[0mself\u001b[0m\u001b[1;33m.\u001b[0m\u001b[0m_request\u001b[0m\u001b[1;33m(\u001b[0m\u001b[0mcommand_info\u001b[0m\u001b[1;33m[\u001b[0m\u001b[1;36m0\u001b[0m\u001b[1;33m]\u001b[0m\u001b[1;33m,\u001b[0m \u001b[0murl\u001b[0m\u001b[1;33m,\u001b[0m \u001b[0mbody\u001b[0m\u001b[1;33m=\u001b[0m\u001b[0mdata\u001b[0m\u001b[1;33m)\u001b[0m\u001b[1;33m\u001b[0m\u001b[1;33m\u001b[0m\u001b[0m\n\u001b[0m\u001b[0;32m    291\u001b[0m \u001b[1;33m\u001b[0m\u001b[0m\n\u001b[0;32m    292\u001b[0m     \u001b[1;32mdef\u001b[0m \u001b[0m_request\u001b[0m\u001b[1;33m(\u001b[0m\u001b[0mself\u001b[0m\u001b[1;33m,\u001b[0m \u001b[0mmethod\u001b[0m\u001b[1;33m,\u001b[0m \u001b[0murl\u001b[0m\u001b[1;33m,\u001b[0m \u001b[0mbody\u001b[0m\u001b[1;33m=\u001b[0m\u001b[1;32mNone\u001b[0m\u001b[1;33m)\u001b[0m\u001b[1;33m:\u001b[0m\u001b[1;33m\u001b[0m\u001b[1;33m\u001b[0m\u001b[0m\n",
      "\u001b[1;32m~\\anaconda3\\lib\\site-packages\\selenium\\webdriver\\remote\\remote_connection.py\u001b[0m in \u001b[0;36m_request\u001b[1;34m(self, method, url, body)\u001b[0m\n\u001b[0;32m    309\u001b[0m \u001b[1;33m\u001b[0m\u001b[0m\n\u001b[0;32m    310\u001b[0m         \u001b[1;32mif\u001b[0m \u001b[0mself\u001b[0m\u001b[1;33m.\u001b[0m\u001b[0mkeep_alive\u001b[0m\u001b[1;33m:\u001b[0m\u001b[1;33m\u001b[0m\u001b[1;33m\u001b[0m\u001b[0m\n\u001b[1;32m--> 311\u001b[1;33m             \u001b[0mresponse\u001b[0m \u001b[1;33m=\u001b[0m \u001b[0mself\u001b[0m\u001b[1;33m.\u001b[0m\u001b[0m_conn\u001b[0m\u001b[1;33m.\u001b[0m\u001b[0mrequest\u001b[0m\u001b[1;33m(\u001b[0m\u001b[0mmethod\u001b[0m\u001b[1;33m,\u001b[0m \u001b[0murl\u001b[0m\u001b[1;33m,\u001b[0m \u001b[0mbody\u001b[0m\u001b[1;33m=\u001b[0m\u001b[0mbody\u001b[0m\u001b[1;33m,\u001b[0m \u001b[0mheaders\u001b[0m\u001b[1;33m=\u001b[0m\u001b[0mheaders\u001b[0m\u001b[1;33m)\u001b[0m\u001b[1;33m\u001b[0m\u001b[1;33m\u001b[0m\u001b[0m\n\u001b[0m\u001b[0;32m    312\u001b[0m             \u001b[0mstatuscode\u001b[0m \u001b[1;33m=\u001b[0m \u001b[0mresponse\u001b[0m\u001b[1;33m.\u001b[0m\u001b[0mstatus\u001b[0m\u001b[1;33m\u001b[0m\u001b[1;33m\u001b[0m\u001b[0m\n\u001b[0;32m    313\u001b[0m         \u001b[1;32melse\u001b[0m\u001b[1;33m:\u001b[0m\u001b[1;33m\u001b[0m\u001b[1;33m\u001b[0m\u001b[0m\n",
      "\u001b[1;32m~\\anaconda3\\lib\\site-packages\\urllib3\\request.py\u001b[0m in \u001b[0;36mrequest\u001b[1;34m(self, method, url, fields, headers, **urlopen_kw)\u001b[0m\n\u001b[0;32m     77\u001b[0m             )\n\u001b[0;32m     78\u001b[0m         \u001b[1;32melse\u001b[0m\u001b[1;33m:\u001b[0m\u001b[1;33m\u001b[0m\u001b[1;33m\u001b[0m\u001b[0m\n\u001b[1;32m---> 79\u001b[1;33m             return self.request_encode_body(\n\u001b[0m\u001b[0;32m     80\u001b[0m                 \u001b[0mmethod\u001b[0m\u001b[1;33m,\u001b[0m \u001b[0murl\u001b[0m\u001b[1;33m,\u001b[0m \u001b[0mfields\u001b[0m\u001b[1;33m=\u001b[0m\u001b[0mfields\u001b[0m\u001b[1;33m,\u001b[0m \u001b[0mheaders\u001b[0m\u001b[1;33m=\u001b[0m\u001b[0mheaders\u001b[0m\u001b[1;33m,\u001b[0m \u001b[1;33m**\u001b[0m\u001b[0murlopen_kw\u001b[0m\u001b[1;33m\u001b[0m\u001b[1;33m\u001b[0m\u001b[0m\n\u001b[0;32m     81\u001b[0m             )\n",
      "\u001b[1;32m~\\anaconda3\\lib\\site-packages\\urllib3\\request.py\u001b[0m in \u001b[0;36mrequest_encode_body\u001b[1;34m(self, method, url, fields, headers, encode_multipart, multipart_boundary, **urlopen_kw)\u001b[0m\n\u001b[0;32m    169\u001b[0m         \u001b[0mextra_kw\u001b[0m\u001b[1;33m.\u001b[0m\u001b[0mupdate\u001b[0m\u001b[1;33m(\u001b[0m\u001b[0murlopen_kw\u001b[0m\u001b[1;33m)\u001b[0m\u001b[1;33m\u001b[0m\u001b[1;33m\u001b[0m\u001b[0m\n\u001b[0;32m    170\u001b[0m \u001b[1;33m\u001b[0m\u001b[0m\n\u001b[1;32m--> 171\u001b[1;33m         \u001b[1;32mreturn\u001b[0m \u001b[0mself\u001b[0m\u001b[1;33m.\u001b[0m\u001b[0murlopen\u001b[0m\u001b[1;33m(\u001b[0m\u001b[0mmethod\u001b[0m\u001b[1;33m,\u001b[0m \u001b[0murl\u001b[0m\u001b[1;33m,\u001b[0m \u001b[1;33m**\u001b[0m\u001b[0mextra_kw\u001b[0m\u001b[1;33m)\u001b[0m\u001b[1;33m\u001b[0m\u001b[1;33m\u001b[0m\u001b[0m\n\u001b[0m",
      "\u001b[1;32m~\\anaconda3\\lib\\site-packages\\urllib3\\poolmanager.py\u001b[0m in \u001b[0;36murlopen\u001b[1;34m(self, method, url, redirect, **kw)\u001b[0m\n\u001b[0;32m    334\u001b[0m             \u001b[0mresponse\u001b[0m \u001b[1;33m=\u001b[0m \u001b[0mconn\u001b[0m\u001b[1;33m.\u001b[0m\u001b[0murlopen\u001b[0m\u001b[1;33m(\u001b[0m\u001b[0mmethod\u001b[0m\u001b[1;33m,\u001b[0m \u001b[0murl\u001b[0m\u001b[1;33m,\u001b[0m \u001b[1;33m**\u001b[0m\u001b[0mkw\u001b[0m\u001b[1;33m)\u001b[0m\u001b[1;33m\u001b[0m\u001b[1;33m\u001b[0m\u001b[0m\n\u001b[0;32m    335\u001b[0m         \u001b[1;32melse\u001b[0m\u001b[1;33m:\u001b[0m\u001b[1;33m\u001b[0m\u001b[1;33m\u001b[0m\u001b[0m\n\u001b[1;32m--> 336\u001b[1;33m             \u001b[0mresponse\u001b[0m \u001b[1;33m=\u001b[0m \u001b[0mconn\u001b[0m\u001b[1;33m.\u001b[0m\u001b[0murlopen\u001b[0m\u001b[1;33m(\u001b[0m\u001b[0mmethod\u001b[0m\u001b[1;33m,\u001b[0m \u001b[0mu\u001b[0m\u001b[1;33m.\u001b[0m\u001b[0mrequest_uri\u001b[0m\u001b[1;33m,\u001b[0m \u001b[1;33m**\u001b[0m\u001b[0mkw\u001b[0m\u001b[1;33m)\u001b[0m\u001b[1;33m\u001b[0m\u001b[1;33m\u001b[0m\u001b[0m\n\u001b[0m\u001b[0;32m    337\u001b[0m \u001b[1;33m\u001b[0m\u001b[0m\n\u001b[0;32m    338\u001b[0m         \u001b[0mredirect_location\u001b[0m \u001b[1;33m=\u001b[0m \u001b[0mredirect\u001b[0m \u001b[1;32mand\u001b[0m \u001b[0mresponse\u001b[0m\u001b[1;33m.\u001b[0m\u001b[0mget_redirect_location\u001b[0m\u001b[1;33m(\u001b[0m\u001b[1;33m)\u001b[0m\u001b[1;33m\u001b[0m\u001b[1;33m\u001b[0m\u001b[0m\n",
      "\u001b[1;32m~\\anaconda3\\lib\\site-packages\\urllib3\\connectionpool.py\u001b[0m in \u001b[0;36murlopen\u001b[1;34m(self, method, url, body, headers, retries, redirect, assert_same_host, timeout, pool_timeout, release_conn, chunked, body_pos, **response_kw)\u001b[0m\n\u001b[0;32m    668\u001b[0m \u001b[1;33m\u001b[0m\u001b[0m\n\u001b[0;32m    669\u001b[0m             \u001b[1;31m# Make the request on the httplib connection object.\u001b[0m\u001b[1;33m\u001b[0m\u001b[1;33m\u001b[0m\u001b[1;33m\u001b[0m\u001b[0m\n\u001b[1;32m--> 670\u001b[1;33m             httplib_response = self._make_request(\n\u001b[0m\u001b[0;32m    671\u001b[0m                 \u001b[0mconn\u001b[0m\u001b[1;33m,\u001b[0m\u001b[1;33m\u001b[0m\u001b[1;33m\u001b[0m\u001b[0m\n\u001b[0;32m    672\u001b[0m                 \u001b[0mmethod\u001b[0m\u001b[1;33m,\u001b[0m\u001b[1;33m\u001b[0m\u001b[1;33m\u001b[0m\u001b[0m\n",
      "\u001b[1;32m~\\anaconda3\\lib\\site-packages\\urllib3\\connectionpool.py\u001b[0m in \u001b[0;36m_make_request\u001b[1;34m(self, conn, method, url, timeout, chunked, **httplib_request_kw)\u001b[0m\n\u001b[0;32m    424\u001b[0m                     \u001b[1;31m# Python 3 (including for exceptions like SystemExit).\u001b[0m\u001b[1;33m\u001b[0m\u001b[1;33m\u001b[0m\u001b[1;33m\u001b[0m\u001b[0m\n\u001b[0;32m    425\u001b[0m                     \u001b[1;31m# Otherwise it looks like a bug in the code.\u001b[0m\u001b[1;33m\u001b[0m\u001b[1;33m\u001b[0m\u001b[1;33m\u001b[0m\u001b[0m\n\u001b[1;32m--> 426\u001b[1;33m                     \u001b[0msix\u001b[0m\u001b[1;33m.\u001b[0m\u001b[0mraise_from\u001b[0m\u001b[1;33m(\u001b[0m\u001b[0me\u001b[0m\u001b[1;33m,\u001b[0m \u001b[1;32mNone\u001b[0m\u001b[1;33m)\u001b[0m\u001b[1;33m\u001b[0m\u001b[1;33m\u001b[0m\u001b[0m\n\u001b[0m\u001b[0;32m    427\u001b[0m         \u001b[1;32mexcept\u001b[0m \u001b[1;33m(\u001b[0m\u001b[0mSocketTimeout\u001b[0m\u001b[1;33m,\u001b[0m \u001b[0mBaseSSLError\u001b[0m\u001b[1;33m,\u001b[0m \u001b[0mSocketError\u001b[0m\u001b[1;33m)\u001b[0m \u001b[1;32mas\u001b[0m \u001b[0me\u001b[0m\u001b[1;33m:\u001b[0m\u001b[1;33m\u001b[0m\u001b[1;33m\u001b[0m\u001b[0m\n\u001b[0;32m    428\u001b[0m             \u001b[0mself\u001b[0m\u001b[1;33m.\u001b[0m\u001b[0m_raise_timeout\u001b[0m\u001b[1;33m(\u001b[0m\u001b[0merr\u001b[0m\u001b[1;33m=\u001b[0m\u001b[0me\u001b[0m\u001b[1;33m,\u001b[0m \u001b[0murl\u001b[0m\u001b[1;33m=\u001b[0m\u001b[0murl\u001b[0m\u001b[1;33m,\u001b[0m \u001b[0mtimeout_value\u001b[0m\u001b[1;33m=\u001b[0m\u001b[0mread_timeout\u001b[0m\u001b[1;33m)\u001b[0m\u001b[1;33m\u001b[0m\u001b[1;33m\u001b[0m\u001b[0m\n",
      "\u001b[1;32m~\\anaconda3\\lib\\site-packages\\urllib3\\packages\\six.py\u001b[0m in \u001b[0;36mraise_from\u001b[1;34m(value, from_value)\u001b[0m\n",
      "\u001b[1;32m~\\anaconda3\\lib\\site-packages\\urllib3\\connectionpool.py\u001b[0m in \u001b[0;36m_make_request\u001b[1;34m(self, conn, method, url, timeout, chunked, **httplib_request_kw)\u001b[0m\n\u001b[0;32m    419\u001b[0m                 \u001b[1;31m# Python 3\u001b[0m\u001b[1;33m\u001b[0m\u001b[1;33m\u001b[0m\u001b[1;33m\u001b[0m\u001b[0m\n\u001b[0;32m    420\u001b[0m                 \u001b[1;32mtry\u001b[0m\u001b[1;33m:\u001b[0m\u001b[1;33m\u001b[0m\u001b[1;33m\u001b[0m\u001b[0m\n\u001b[1;32m--> 421\u001b[1;33m                     \u001b[0mhttplib_response\u001b[0m \u001b[1;33m=\u001b[0m \u001b[0mconn\u001b[0m\u001b[1;33m.\u001b[0m\u001b[0mgetresponse\u001b[0m\u001b[1;33m(\u001b[0m\u001b[1;33m)\u001b[0m\u001b[1;33m\u001b[0m\u001b[1;33m\u001b[0m\u001b[0m\n\u001b[0m\u001b[0;32m    422\u001b[0m                 \u001b[1;32mexcept\u001b[0m \u001b[0mBaseException\u001b[0m \u001b[1;32mas\u001b[0m \u001b[0me\u001b[0m\u001b[1;33m:\u001b[0m\u001b[1;33m\u001b[0m\u001b[1;33m\u001b[0m\u001b[0m\n\u001b[0;32m    423\u001b[0m                     \u001b[1;31m# Remove the TypeError from the exception chain in\u001b[0m\u001b[1;33m\u001b[0m\u001b[1;33m\u001b[0m\u001b[1;33m\u001b[0m\u001b[0m\n",
      "\u001b[1;32m~\\anaconda3\\lib\\http\\client.py\u001b[0m in \u001b[0;36mgetresponse\u001b[1;34m(self)\u001b[0m\n\u001b[0;32m   1345\u001b[0m         \u001b[1;32mtry\u001b[0m\u001b[1;33m:\u001b[0m\u001b[1;33m\u001b[0m\u001b[1;33m\u001b[0m\u001b[0m\n\u001b[0;32m   1346\u001b[0m             \u001b[1;32mtry\u001b[0m\u001b[1;33m:\u001b[0m\u001b[1;33m\u001b[0m\u001b[1;33m\u001b[0m\u001b[0m\n\u001b[1;32m-> 1347\u001b[1;33m                 \u001b[0mresponse\u001b[0m\u001b[1;33m.\u001b[0m\u001b[0mbegin\u001b[0m\u001b[1;33m(\u001b[0m\u001b[1;33m)\u001b[0m\u001b[1;33m\u001b[0m\u001b[1;33m\u001b[0m\u001b[0m\n\u001b[0m\u001b[0;32m   1348\u001b[0m             \u001b[1;32mexcept\u001b[0m \u001b[0mConnectionError\u001b[0m\u001b[1;33m:\u001b[0m\u001b[1;33m\u001b[0m\u001b[1;33m\u001b[0m\u001b[0m\n\u001b[0;32m   1349\u001b[0m                 \u001b[0mself\u001b[0m\u001b[1;33m.\u001b[0m\u001b[0mclose\u001b[0m\u001b[1;33m(\u001b[0m\u001b[1;33m)\u001b[0m\u001b[1;33m\u001b[0m\u001b[1;33m\u001b[0m\u001b[0m\n",
      "\u001b[1;32m~\\anaconda3\\lib\\http\\client.py\u001b[0m in \u001b[0;36mbegin\u001b[1;34m(self)\u001b[0m\n\u001b[0;32m    305\u001b[0m         \u001b[1;31m# read until we get a non-100 response\u001b[0m\u001b[1;33m\u001b[0m\u001b[1;33m\u001b[0m\u001b[1;33m\u001b[0m\u001b[0m\n\u001b[0;32m    306\u001b[0m         \u001b[1;32mwhile\u001b[0m \u001b[1;32mTrue\u001b[0m\u001b[1;33m:\u001b[0m\u001b[1;33m\u001b[0m\u001b[1;33m\u001b[0m\u001b[0m\n\u001b[1;32m--> 307\u001b[1;33m             \u001b[0mversion\u001b[0m\u001b[1;33m,\u001b[0m \u001b[0mstatus\u001b[0m\u001b[1;33m,\u001b[0m \u001b[0mreason\u001b[0m \u001b[1;33m=\u001b[0m \u001b[0mself\u001b[0m\u001b[1;33m.\u001b[0m\u001b[0m_read_status\u001b[0m\u001b[1;33m(\u001b[0m\u001b[1;33m)\u001b[0m\u001b[1;33m\u001b[0m\u001b[1;33m\u001b[0m\u001b[0m\n\u001b[0m\u001b[0;32m    308\u001b[0m             \u001b[1;32mif\u001b[0m \u001b[0mstatus\u001b[0m \u001b[1;33m!=\u001b[0m \u001b[0mCONTINUE\u001b[0m\u001b[1;33m:\u001b[0m\u001b[1;33m\u001b[0m\u001b[1;33m\u001b[0m\u001b[0m\n\u001b[0;32m    309\u001b[0m                 \u001b[1;32mbreak\u001b[0m\u001b[1;33m\u001b[0m\u001b[1;33m\u001b[0m\u001b[0m\n",
      "\u001b[1;32m~\\anaconda3\\lib\\http\\client.py\u001b[0m in \u001b[0;36m_read_status\u001b[1;34m(self)\u001b[0m\n\u001b[0;32m    266\u001b[0m \u001b[1;33m\u001b[0m\u001b[0m\n\u001b[0;32m    267\u001b[0m     \u001b[1;32mdef\u001b[0m \u001b[0m_read_status\u001b[0m\u001b[1;33m(\u001b[0m\u001b[0mself\u001b[0m\u001b[1;33m)\u001b[0m\u001b[1;33m:\u001b[0m\u001b[1;33m\u001b[0m\u001b[1;33m\u001b[0m\u001b[0m\n\u001b[1;32m--> 268\u001b[1;33m         \u001b[0mline\u001b[0m \u001b[1;33m=\u001b[0m \u001b[0mstr\u001b[0m\u001b[1;33m(\u001b[0m\u001b[0mself\u001b[0m\u001b[1;33m.\u001b[0m\u001b[0mfp\u001b[0m\u001b[1;33m.\u001b[0m\u001b[0mreadline\u001b[0m\u001b[1;33m(\u001b[0m\u001b[0m_MAXLINE\u001b[0m \u001b[1;33m+\u001b[0m \u001b[1;36m1\u001b[0m\u001b[1;33m)\u001b[0m\u001b[1;33m,\u001b[0m \u001b[1;34m\"iso-8859-1\"\u001b[0m\u001b[1;33m)\u001b[0m\u001b[1;33m\u001b[0m\u001b[1;33m\u001b[0m\u001b[0m\n\u001b[0m\u001b[0;32m    269\u001b[0m         \u001b[1;32mif\u001b[0m \u001b[0mlen\u001b[0m\u001b[1;33m(\u001b[0m\u001b[0mline\u001b[0m\u001b[1;33m)\u001b[0m \u001b[1;33m>\u001b[0m \u001b[0m_MAXLINE\u001b[0m\u001b[1;33m:\u001b[0m\u001b[1;33m\u001b[0m\u001b[1;33m\u001b[0m\u001b[0m\n\u001b[0;32m    270\u001b[0m             \u001b[1;32mraise\u001b[0m \u001b[0mLineTooLong\u001b[0m\u001b[1;33m(\u001b[0m\u001b[1;34m\"status line\"\u001b[0m\u001b[1;33m)\u001b[0m\u001b[1;33m\u001b[0m\u001b[1;33m\u001b[0m\u001b[0m\n",
      "\u001b[1;32m~\\anaconda3\\lib\\socket.py\u001b[0m in \u001b[0;36mreadinto\u001b[1;34m(self, b)\u001b[0m\n\u001b[0;32m    667\u001b[0m         \u001b[1;32mwhile\u001b[0m \u001b[1;32mTrue\u001b[0m\u001b[1;33m:\u001b[0m\u001b[1;33m\u001b[0m\u001b[1;33m\u001b[0m\u001b[0m\n\u001b[0;32m    668\u001b[0m             \u001b[1;32mtry\u001b[0m\u001b[1;33m:\u001b[0m\u001b[1;33m\u001b[0m\u001b[1;33m\u001b[0m\u001b[0m\n\u001b[1;32m--> 669\u001b[1;33m                 \u001b[1;32mreturn\u001b[0m \u001b[0mself\u001b[0m\u001b[1;33m.\u001b[0m\u001b[0m_sock\u001b[0m\u001b[1;33m.\u001b[0m\u001b[0mrecv_into\u001b[0m\u001b[1;33m(\u001b[0m\u001b[0mb\u001b[0m\u001b[1;33m)\u001b[0m\u001b[1;33m\u001b[0m\u001b[1;33m\u001b[0m\u001b[0m\n\u001b[0m\u001b[0;32m    670\u001b[0m             \u001b[1;32mexcept\u001b[0m \u001b[0mtimeout\u001b[0m\u001b[1;33m:\u001b[0m\u001b[1;33m\u001b[0m\u001b[1;33m\u001b[0m\u001b[0m\n\u001b[0;32m    671\u001b[0m                 \u001b[0mself\u001b[0m\u001b[1;33m.\u001b[0m\u001b[0m_timeout_occurred\u001b[0m \u001b[1;33m=\u001b[0m \u001b[1;32mTrue\u001b[0m\u001b[1;33m\u001b[0m\u001b[1;33m\u001b[0m\u001b[0m\n",
      "\u001b[1;31mKeyboardInterrupt\u001b[0m: "
     ]
    }
   ],
   "source": [
    "df_sample = df_sample.iloc[(df_scraped.shape[0] - 10):]\n",
    "\n",
    "for Url_Key in df_sample['Url_Key']:\n",
    "    sleep(0.5 + randint(10,9999999)/10000000)\n",
    "    # Check if Url_Key is not in df_scraped\n",
    "    df_scraped = pd.read_csv(\"../Webscrape_Data/scraped_data.csv\", error_bad_lines=False)\n",
    "    df_scraped['Url_Key'] = df_scraped['Url_Key'].astype(str)\n",
    "    Url_Key = str(Url_Key)\n",
    "    if Url_Key not in df_scraped['Url_Key'].values:\n",
    "        \n",
    "        # Calling Dibs on this profile\n",
    "        dict_person = {\"Url_Key\": Url_Key, \"Name\" : \"Scraper Copy2 has dibs!\"}\n",
    "        df_scraped = pd.concat([df_scraped, \n",
    "            pd.DataFrame(dict_person, index=[0])], ignore_index=True)\n",
    "        df_scraped.to_csv(\"../Webscrape_Data/scraped_data.csv\", index = False)\n",
    "        \n",
    "        \n",
    "        fun_driver.get(\"https://www.facebook.com/\" + Url_Key)\n",
    "        # Gather data using Url_Key\n",
    "        dict_person = {\"Url_Key\" : Url_Key}\n",
    "        try:\n",
    "            # Obtain Profile Picture\n",
    "            dict_person[\"Profile Picture Link\"] = fun_driver.find_element(by=\"css selector\", \n",
    "                value = \"a.xzsf02u > div:nth-child(1) > svg:nth-child(1) > g:nth-child(2) > image:nth-child(1)\"\n",
    "                ).get_attribute(\"xlink:href\")\n",
    "\n",
    "            # Obtain Name\n",
    "            dict_person[\"Name\"] = get_text_with_retry(fun_driver, \".x14qwyeo > h1:nth-child(1)\")\n",
    "\n",
    "            # Obtain Number of Friends\n",
    "            dict_person[\"Num_Friends\"] = int(get_text_with_retry(fun_driver, \"a.xi81zsa\").split(\" \")[0])\n",
    "\n",
    "            # Obtain Intro Lines\n",
    "            html_current = BeautifulSoup(fun_driver.page_source, \"lxml\")\n",
    "            list_intro_el = html_current.select(\n",
    "                \"div.x7wzq59:nth-child(2) > div:nth-child(1) > div:nth-child(1) > div:nth-child(1) > div:nth-child(1) >\"\n",
    "                + \" div:nth-child(1) > div:nth-child(1) > div:nth-child(2) > div:nth-child(1) > div:nth-child(1) >\"\n",
    "                + \" ul:nth-child(1) > div\")\n",
    "            for num in range(len(list_intro_el)):\n",
    "                dict_person[\"Intro \" + str(num + 1)] = list_intro_el[num].text\n",
    "                #print(list_intro_el[num].text)\n",
    "\n",
    "\n",
    "            # Click About Tab\n",
    "            click_with_retry(fun_driver, \"a.x1i10hfl:nth-child(3) > div:nth-child(1) > span:nth-child(1)\")\n",
    "            #Get Overview Section First\n",
    "            dict_person[\"Overview (About)\"] = get_text_with_retry(fun_driver, \".xqmdsaz\")\n",
    "            \n",
    "            # Obtain About Section\n",
    "            for num in range(3, 9):\n",
    "                css_selector_to_click = \".x16jcvb6 > div:nth-child(\" + str(num) + \") > a:nth-child(1)\"\n",
    "                click_with_retry(fun_driver, css_selector_to_click)\n",
    "                el_temp = fun_driver.find_element(by=\"css selector\", value=css_selector_to_click)\n",
    "                el_temp_text = el_temp.text\n",
    "                css_path_content = \".xqmdsaz\"\n",
    "                content_text = get_text_with_retry(fun_driver, css_path_content)\n",
    "                if content_text is not None:\n",
    "                    dict_person[el_temp_text] = content_text\n",
    "                    #print(\"element's text hath been saved!\")\n",
    "                else:\n",
    "                    print(\"Failed to retrieve text for element:\", el_temp_text)\n",
    "        except:\n",
    "            dict_person = {\"Url_Key\": Url_Key, \"Name\" : \"Scrape Failed\"}\n",
    "        \n",
    "        \n",
    "        # Append the new data to df_scraped\n",
    "        df_scraped = pd.concat([df_scraped, \n",
    "            pd.DataFrame(dict_person, index=[0])], ignore_index=True)\n",
    "        df_scraped.to_csv(\"../Webscrape_Data/scraped_data.csv\", index = False)\n",
    "    \n",
    "    else:\n",
    "        # Skip the data gathering process\n",
    "        print(f\"URL key {Url_Key} already exists in df_scraped, skipping data gathering.\")\n"
   ]
  },
  {
   "cell_type": "code",
   "execution_count": null,
   "metadata": {},
   "outputs": [],
   "source": []
  },
  {
   "cell_type": "code",
   "execution_count": null,
   "metadata": {},
   "outputs": [],
   "source": []
  },
  {
   "cell_type": "code",
   "execution_count": null,
   "metadata": {},
   "outputs": [],
   "source": []
  },
  {
   "cell_type": "code",
   "execution_count": null,
   "metadata": {},
   "outputs": [],
   "source": []
  },
  {
   "cell_type": "code",
   "execution_count": null,
   "metadata": {},
   "outputs": [],
   "source": []
  },
  {
   "cell_type": "code",
   "execution_count": null,
   "metadata": {},
   "outputs": [],
   "source": []
  },
  {
   "cell_type": "code",
   "execution_count": null,
   "metadata": {},
   "outputs": [],
   "source": []
  },
  {
   "cell_type": "code",
   "execution_count": null,
   "metadata": {},
   "outputs": [],
   "source": []
  },
  {
   "cell_type": "code",
   "execution_count": null,
   "metadata": {},
   "outputs": [],
   "source": []
  },
  {
   "cell_type": "markdown",
   "metadata": {},
   "source": [
    "# Original Test Scraping"
   ]
  },
  {
   "cell_type": "code",
   "execution_count": 60,
   "metadata": {},
   "outputs": [],
   "source": [
    "Url_Key = \"596897507\""
   ]
  },
  {
   "cell_type": "code",
   "execution_count": 61,
   "metadata": {},
   "outputs": [],
   "source": [
    "fun_driver.get(\"https://www.facebook.com/\" + Url_Key)"
   ]
  },
  {
   "cell_type": "code",
   "execution_count": 62,
   "metadata": {},
   "outputs": [],
   "source": [
    "dict_person = {}\n",
    "# Need to obtain the following:\n",
    "# Profile Picture\n"
   ]
  },
  {
   "cell_type": "code",
   "execution_count": 63,
   "metadata": {},
   "outputs": [],
   "source": [
    "dict_person[\"Url_Key\"] = Url_Key"
   ]
  },
  {
   "cell_type": "code",
   "execution_count": 64,
   "metadata": {},
   "outputs": [],
   "source": [
    "# Obtain Profile Picture\n",
    "dict_person[\"Profile Picture Link\"] = fun_driver.find_element(by=\"css selector\", \n",
    "    value = \"a.xzsf02u > div:nth-child(1) > svg:nth-child(1) > g:nth-child(2) > image:nth-child(1)\"\n",
    "    ).get_attribute(\"xlink:href\")"
   ]
  },
  {
   "cell_type": "code",
   "execution_count": 65,
   "metadata": {},
   "outputs": [],
   "source": [
    "# Obtain Name\n",
    "dict_person[\"Name\"] = get_text_with_retry(fun_driver, \".x14qwyeo > h1:nth-child(1)\")"
   ]
  },
  {
   "cell_type": "code",
   "execution_count": 66,
   "metadata": {},
   "outputs": [],
   "source": [
    "# Obtain Number of Friends\n",
    "dict_person[\"Num_Friends\"] = int(get_text_with_retry(fun_driver, \"a.xi81zsa\").split(\" \")[0])"
   ]
  },
  {
   "cell_type": "code",
   "execution_count": 67,
   "metadata": {},
   "outputs": [
    {
     "name": "stdout",
     "output_type": "stream",
     "text": [
      "Went to Ashland High School\n",
      "Lives in San Antonio, Texas\n",
      "From San Antonio, Texas\n",
      "Married to Matt Murphy\n",
      "Joined October 2007\n"
     ]
    }
   ],
   "source": [
    "# Obtain Intro Lines\n",
    "html_current = BeautifulSoup(fun_driver.page_source, \"lxml\")\n",
    "\n",
    "list_intro_el = html_current.select(\n",
    "    \"div.x7wzq59:nth-child(2) > div:nth-child(1) > div:nth-child(1) > div:nth-child(1) > div:nth-child(1) >\"\n",
    "    + \" div:nth-child(1) > div:nth-child(1) > div:nth-child(2) > div:nth-child(1) > div:nth-child(1) >\"\n",
    "    + \" ul:nth-child(1) > div\")\n",
    "\n",
    "for num in range(len(list_intro_el)):\n",
    "    dict_person[\"Intro \" + str(num + 1)] = list_intro_el[num].text\n",
    "    print(list_intro_el[num].text)"
   ]
  },
  {
   "cell_type": "code",
   "execution_count": 68,
   "metadata": {},
   "outputs": [],
   "source": [
    "# Click About Tab\n",
    "click_with_retry(fun_driver, \"a.x1i10hfl:nth-child(3) > div:nth-child(1) > span:nth-child(1)\")\n",
    "\n",
    "#Get Overview Section First\n",
    "dict_person[\"Overview (About)\"] = get_text_with_retry(fun_driver, \".xqmdsaz\")"
   ]
  },
  {
   "cell_type": "code",
   "execution_count": 69,
   "metadata": {},
   "outputs": [
    {
     "name": "stdout",
     "output_type": "stream",
     "text": [
      "---------------------------------\n",
      "temp el: Work and education clicked\n",
      "element's text hath been saved!\n",
      "---------------------------------\n",
      "temp el: Places lived clicked\n",
      "element's text hath been saved!\n",
      "---------------------------------\n",
      "temp el: Contact and basic info clicked\n",
      "element's text hath been saved!\n",
      "---------------------------------\n",
      "temp el: Family and relationships clicked\n",
      "element's text hath been saved!\n",
      "---------------------------------\n",
      "temp el: Details About Sarah clicked\n",
      "element's text hath been saved!\n",
      "---------------------------------\n",
      "temp el: Life events clicked\n",
      "element's text hath been saved!\n"
     ]
    }
   ],
   "source": [
    "\n",
    "# Obtain About Section\n",
    "for num in range(3, 9):\n",
    "    print(\"---------------------------------\")\n",
    "    \n",
    "    # CSS selector for the current element to click\n",
    "    css_selector_to_click = \".x16jcvb6 > div:nth-child(\" + str(num) + \") > a:nth-child(1)\"\n",
    "    \n",
    "    # Clicking the next About Sub-Section\n",
    "    click_with_retry(fun_driver, css_selector_to_click)\n",
    "    \n",
    "    # Re-find the element to avoid stale reference\n",
    "    el_temp = fun_driver.find_element(by=\"css selector\", value=css_selector_to_click)\n",
    "    el_temp_text = el_temp.text\n",
    "    print(\"temp el: \" + el_temp_text + \" clicked\")\n",
    "    \n",
    "    # Consuming its informational content\n",
    "    css_path_content = \".xqmdsaz\"\n",
    "    content_text = get_text_with_retry(fun_driver, css_path_content)\n",
    "    if content_text is not None:\n",
    "        dict_person[el_temp_text] = content_text\n",
    "        print(\"element's text hath been saved!\")\n",
    "    else:\n",
    "        print(\"Failed to retrieve text for element:\", el_temp_text)\n"
   ]
  },
  {
   "cell_type": "code",
   "execution_count": 70,
   "metadata": {},
   "outputs": [
    {
     "data": {
      "text/html": [
       "<div>\n",
       "<style scoped>\n",
       "    .dataframe tbody tr th:only-of-type {\n",
       "        vertical-align: middle;\n",
       "    }\n",
       "\n",
       "    .dataframe tbody tr th {\n",
       "        vertical-align: top;\n",
       "    }\n",
       "\n",
       "    .dataframe thead th {\n",
       "        text-align: right;\n",
       "    }\n",
       "</style>\n",
       "<table border=\"1\" class=\"dataframe\">\n",
       "  <thead>\n",
       "    <tr style=\"text-align: right;\">\n",
       "      <th></th>\n",
       "      <th>Url_Key</th>\n",
       "      <th>Profile Picture Link</th>\n",
       "      <th>Name</th>\n",
       "      <th>Num_Friends</th>\n",
       "      <th>Intro 1</th>\n",
       "      <th>Intro 2</th>\n",
       "      <th>Intro 3</th>\n",
       "      <th>Intro 4</th>\n",
       "      <th>Intro 5</th>\n",
       "      <th>Overview (About)</th>\n",
       "      <th>Work and education</th>\n",
       "      <th>Places lived</th>\n",
       "      <th>Contact and basic info</th>\n",
       "      <th>Family and relationships</th>\n",
       "      <th>Details About Sarah</th>\n",
       "      <th>Life events</th>\n",
       "    </tr>\n",
       "  </thead>\n",
       "  <tbody>\n",
       "    <tr>\n",
       "      <th>0</th>\n",
       "      <td>596897507</td>\n",
       "      <td>https://scontent-sjc3-1.xx.fbcdn.net/v/t39.308...</td>\n",
       "      <td>Sarah Murphy</td>\n",
       "      <td>444</td>\n",
       "      <td>Went to Ashland High School</td>\n",
       "      <td>Lives in San Antonio, Texas</td>\n",
       "      <td>From San Antonio, Texas</td>\n",
       "      <td>Married to Matt Murphy</td>\n",
       "      <td>Joined October 2007</td>\n",
       "      <td>No workplaces to show\\nWent to Ashland High Sc...</td>\n",
       "      <td>No workplaces to show\\nWent to Ashland High Sc...</td>\n",
       "      <td>Work\\nNo workplaces to show\\nCollege\\nNo schoo...</td>\n",
       "      <td>Places lived\\nSan Antonio, Texas\\nCurrent city...</td>\n",
       "      <td>Contact info\\nNo contact info to show\\nWebsite...</td>\n",
       "      <td>Relationship\\nMatt Murphy\\nMarried to Matt Mur...</td>\n",
       "      <td>2017\\nMarried Matt Murphy\\n2011\\nMatt Murphy a...</td>\n",
       "    </tr>\n",
       "  </tbody>\n",
       "</table>\n",
       "</div>"
      ],
      "text/plain": [
       "     Url_Key                               Profile Picture Link  \\\n",
       "0  596897507  https://scontent-sjc3-1.xx.fbcdn.net/v/t39.308...   \n",
       "\n",
       "            Name  Num_Friends                      Intro 1  \\\n",
       "0  Sarah Murphy           444  Went to Ashland High School   \n",
       "\n",
       "                       Intro 2                  Intro 3  \\\n",
       "0  Lives in San Antonio, Texas  From San Antonio, Texas   \n",
       "\n",
       "                  Intro 4              Intro 5  \\\n",
       "0  Married to Matt Murphy  Joined October 2007   \n",
       "\n",
       "                                    Overview (About)  \\\n",
       "0  No workplaces to show\\nWent to Ashland High Sc...   \n",
       "\n",
       "                                  Work and education  \\\n",
       "0  No workplaces to show\\nWent to Ashland High Sc...   \n",
       "\n",
       "                                        Places lived  \\\n",
       "0  Work\\nNo workplaces to show\\nCollege\\nNo schoo...   \n",
       "\n",
       "                              Contact and basic info  \\\n",
       "0  Places lived\\nSan Antonio, Texas\\nCurrent city...   \n",
       "\n",
       "                            Family and relationships  \\\n",
       "0  Contact info\\nNo contact info to show\\nWebsite...   \n",
       "\n",
       "                                 Details About Sarah  \\\n",
       "0  Relationship\\nMatt Murphy\\nMarried to Matt Mur...   \n",
       "\n",
       "                                         Life events  \n",
       "0  2017\\nMarried Matt Murphy\\n2011\\nMatt Murphy a...  "
      ]
     },
     "execution_count": 70,
     "metadata": {},
     "output_type": "execute_result"
    }
   ],
   "source": [
    "df_scraped = pd.DataFrame(dict_person, index=[0])\n",
    "df_scraped"
   ]
  },
  {
   "cell_type": "code",
   "execution_count": 71,
   "metadata": {},
   "outputs": [],
   "source": [
    "df_scraped.to_csv(\"../Webscrape_Data/scraped_data.csv\", index = False)"
   ]
  },
  {
   "cell_type": "code",
   "execution_count": 72,
   "metadata": {},
   "outputs": [
    {
     "data": {
      "text/html": [
       "<div>\n",
       "<style scoped>\n",
       "    .dataframe tbody tr th:only-of-type {\n",
       "        vertical-align: middle;\n",
       "    }\n",
       "\n",
       "    .dataframe tbody tr th {\n",
       "        vertical-align: top;\n",
       "    }\n",
       "\n",
       "    .dataframe thead th {\n",
       "        text-align: right;\n",
       "    }\n",
       "</style>\n",
       "<table border=\"1\" class=\"dataframe\">\n",
       "  <thead>\n",
       "    <tr style=\"text-align: right;\">\n",
       "      <th></th>\n",
       "      <th>Url_Key</th>\n",
       "      <th>Profile Picture Link</th>\n",
       "      <th>Name</th>\n",
       "      <th>Num_Friends</th>\n",
       "      <th>Intro 1</th>\n",
       "      <th>Intro 2</th>\n",
       "      <th>Intro 3</th>\n",
       "      <th>Intro 4</th>\n",
       "      <th>Intro 5</th>\n",
       "      <th>Overview (About)</th>\n",
       "      <th>Work and education</th>\n",
       "      <th>Places lived</th>\n",
       "      <th>Contact and basic info</th>\n",
       "      <th>Family and relationships</th>\n",
       "      <th>Details About Sarah</th>\n",
       "      <th>Life events</th>\n",
       "    </tr>\n",
       "  </thead>\n",
       "  <tbody>\n",
       "    <tr>\n",
       "      <th>0</th>\n",
       "      <td>596897507</td>\n",
       "      <td>https://scontent-sjc3-1.xx.fbcdn.net/v/t39.308...</td>\n",
       "      <td>Sarah Murphy</td>\n",
       "      <td>444</td>\n",
       "      <td>Went to Ashland High School</td>\n",
       "      <td>Lives in San Antonio, Texas</td>\n",
       "      <td>From San Antonio, Texas</td>\n",
       "      <td>Married to Matt Murphy</td>\n",
       "      <td>Joined October 2007</td>\n",
       "      <td>No workplaces to show\\nWent to Ashland High Sc...</td>\n",
       "      <td>No workplaces to show\\nWent to Ashland High Sc...</td>\n",
       "      <td>Work\\nNo workplaces to show\\nCollege\\nNo schoo...</td>\n",
       "      <td>Places lived\\nSan Antonio, Texas\\nCurrent city...</td>\n",
       "      <td>Contact info\\nNo contact info to show\\nWebsite...</td>\n",
       "      <td>Relationship\\nMatt Murphy\\nMarried to Matt Mur...</td>\n",
       "      <td>2017\\nMarried Matt Murphy\\n2011\\nMatt Murphy a...</td>\n",
       "    </tr>\n",
       "  </tbody>\n",
       "</table>\n",
       "</div>"
      ],
      "text/plain": [
       "     Url_Key                               Profile Picture Link  \\\n",
       "0  596897507  https://scontent-sjc3-1.xx.fbcdn.net/v/t39.308...   \n",
       "\n",
       "            Name  Num_Friends                      Intro 1  \\\n",
       "0  Sarah Murphy           444  Went to Ashland High School   \n",
       "\n",
       "                       Intro 2                  Intro 3  \\\n",
       "0  Lives in San Antonio, Texas  From San Antonio, Texas   \n",
       "\n",
       "                  Intro 4              Intro 5  \\\n",
       "0  Married to Matt Murphy  Joined October 2007   \n",
       "\n",
       "                                    Overview (About)  \\\n",
       "0  No workplaces to show\\nWent to Ashland High Sc...   \n",
       "\n",
       "                                  Work and education  \\\n",
       "0  No workplaces to show\\nWent to Ashland High Sc...   \n",
       "\n",
       "                                        Places lived  \\\n",
       "0  Work\\nNo workplaces to show\\nCollege\\nNo schoo...   \n",
       "\n",
       "                              Contact and basic info  \\\n",
       "0  Places lived\\nSan Antonio, Texas\\nCurrent city...   \n",
       "\n",
       "                            Family and relationships  \\\n",
       "0  Contact info\\nNo contact info to show\\nWebsite...   \n",
       "\n",
       "                                 Details About Sarah  \\\n",
       "0  Relationship\\nMatt Murphy\\nMarried to Matt Mur...   \n",
       "\n",
       "                                         Life events  \n",
       "0  2017\\nMarried Matt Murphy\\n2011\\nMatt Murphy a...  "
      ]
     },
     "execution_count": 72,
     "metadata": {},
     "output_type": "execute_result"
    }
   ],
   "source": [
    "pd.read_csv(\"../Webscrape_Data/scraped_data.csv\")"
   ]
  },
  {
   "cell_type": "code",
   "execution_count": null,
   "metadata": {},
   "outputs": [],
   "source": []
  },
  {
   "cell_type": "code",
   "execution_count": null,
   "metadata": {},
   "outputs": [],
   "source": []
  },
  {
   "cell_type": "code",
   "execution_count": null,
   "metadata": {},
   "outputs": [],
   "source": []
  },
  {
   "cell_type": "code",
   "execution_count": null,
   "metadata": {},
   "outputs": [],
   "source": []
  },
  {
   "cell_type": "code",
   "execution_count": null,
   "metadata": {},
   "outputs": [],
   "source": []
  },
  {
   "cell_type": "code",
   "execution_count": null,
   "metadata": {},
   "outputs": [],
   "source": []
  },
  {
   "cell_type": "code",
   "execution_count": null,
   "metadata": {},
   "outputs": [],
   "source": []
  },
  {
   "cell_type": "code",
   "execution_count": null,
   "metadata": {},
   "outputs": [],
   "source": []
  },
  {
   "cell_type": "code",
   "execution_count": null,
   "metadata": {},
   "outputs": [],
   "source": []
  },
  {
   "cell_type": "markdown",
   "metadata": {},
   "source": [
    "# Code Recycling"
   ]
  },
  {
   "cell_type": "markdown",
   "metadata": {},
   "source": [
    "from selenium.common.exceptions import StaleElementReferenceException\n",
    "from selenium.webdriver.support.ui import WebDriverWait\n",
    "from selenium.webdriver.support import expected_conditions as EC\n",
    "from selenium.webdriver.common.by import By"
   ]
  },
  {
   "cell_type": "markdown",
   "metadata": {},
   "source": [
    "def fun_extended_wait(css_selector, driver):\n",
    "    locator = (By.CSS_SELECTOR, css_selector)\n",
    "    try:\n",
    "        # Wait for the element to be available and interact with it\n",
    "        element = WebDriverWait(driver, 10).until(EC.presence_of_element_located(locator))\n",
    "        # Perform actions with element\n",
    "    except StaleElementReferenceException:\n",
    "        # Element is stale, re-find or handle the exception\n",
    "        element = WebDriverWait(driver, 10).until(EC.presence_of_element_located(locator))\n",
    "        # Perform actions with refreshed element\n",
    "    sleep(1 + randint(10,9999999)/10000000)\n",
    "    return"
   ]
  },
  {
   "cell_type": "markdown",
   "metadata": {},
   "source": [
    "for num in range(3,8):\n",
    "    print(\"---------------------------------\")\n",
    "    \n",
    "    # Clicking next About Sub-Section\n",
    "    css_path = \".x16jcvb6 > div:nth-child(\" + str(num) + \") > a:nth-child(1)\"\n",
    "    fun_extended_wait(css_path, fun_driver)\n",
    "    sleep(3 + randint(10,9999999)/10000000)\n",
    "    el_temp = fun_driver.find_element(by=\"css selector\", value = css_path)\n",
    "    el_temp.click()\n",
    "    print(\"temp el: \" + el_temp.text + \" clicked\")\n",
    "    \n",
    "    # Consuming it's informational meat\n",
    "    css_path = \".xqmdsaz\"\n",
    "    fun_extended_wait(css_path, fun_driver)\n",
    "    dict_person[el_temp.text] = fun_driver.find_element(by=\"css selector\", value = css_path).text\n",
    "    print(\"element's text hath been saved!\")"
   ]
  },
  {
   "cell_type": "code",
   "execution_count": 2,
   "metadata": {},
   "outputs": [],
   "source": [
    "#import matplotlib.pyplot as plt\n",
    "#import seaborn as sns\n",
    "#%matplotlib inline\n",
    "#import warnings\n",
    "#warnings.filterwarnings('ignore')"
   ]
  },
  {
   "cell_type": "markdown",
   "metadata": {},
   "source": [
    "def open_browser(alt_user_name = 'Thank you for your website'):\n",
    "    path = '../Garage/chromedriver'         # Path to Chromedriver\n",
    "    return webdriver.Chrome(executable_path = path)\n",
    "\n",
    "def open_browser(alt_user_name = 'Thank you for your website'):\n",
    "    opts = Options()\n",
    "    opts.add_argument(\"user-agent=\" + str(alt_user_name))\n",
    "    path = '../Garage/chromedriver'         # Path to Chromedriver\n",
    "    return webdriver.Chrome(executable_path = path, options=opts)"
   ]
  },
  {
   "cell_type": "markdown",
   "metadata": {},
   "source": [
    "for num in range(3,8):\n",
    "    print(\"---------------------------------\")\n",
    "    \n",
    "    # CSS selector for the current element to click\n",
    "    css_selector_to_click = \".x16jcvb6 > div:nth-child(\" + str(num) + \") > a:nth-child(1)\"\n",
    "    \n",
    "    # Clicking the next About Sub-Section\n",
    "    click_with_retry(fun_driver, css_selector_to_click)\n",
    "    \n",
    "    # Re-find the element to avoid stale reference\n",
    "    el_temp = fun_driver.find_element(by=\"css selector\", value=css_selector_to_click)\n",
    "    print(\"temp el: \" + el_temp.text + \" clicked\")\n",
    "    \n",
    "    # Consuming it's informational meat\n",
    "    css_path = \".xqmdsaz\"\n",
    "    #fun_extended_wait(css_path, fun_driver)\n",
    "    dict_person[el_temp.text] = fun_driver.find_element(by=\"css selector\", value = css_path).text\n",
    "    print(\"element's text hath been saved!\")"
   ]
  },
  {
   "cell_type": "markdown",
   "metadata": {},
   "source": [
    "fun_driver.find_element(by=\"css selector\",\n",
    "                        value = \"a.x1i10hfl:nth-child(3) > div:nth-child(1) > span:nth-child(1)\").click()"
   ]
  },
  {
   "cell_type": "markdown",
   "metadata": {},
   "source": [
    "about_overview = fun_driver.find_element(by=\"css selector\", value = \".xqmdsaz\").text\n",
    "dict_person[\"Overview (About)\"] = about_overview\n",
    "about_overview"
   ]
  },
  {
   "cell_type": "markdown",
   "metadata": {},
   "source": [
    "##### #2 Work & Education"
   ]
  },
  {
   "cell_type": "markdown",
   "metadata": {},
   "source": [
    "fun_driver.find_element(by=\"css selector\", value = \".x16jcvb6 > div:nth-child(3) > a:nth-child(1)\").click()"
   ]
  },
  {
   "cell_type": "markdown",
   "metadata": {},
   "source": [
    "about_workanded = fun_driver.find_element(by=\"css selector\", value = \".xqmdsaz\").text\n",
    "dict_person[\"Work & Education (About)\"] = about_workanded\n",
    "about_workanded"
   ]
  },
  {
   "cell_type": "markdown",
   "metadata": {},
   "source": [
    "##### #3 Places Lived"
   ]
  },
  {
   "cell_type": "markdown",
   "metadata": {},
   "source": [
    "fun_driver.find_element(by=\"css selector\", value = \".x16jcvb6 > div:nth-child(4) > a:nth-child(1)\").click()"
   ]
  },
  {
   "cell_type": "markdown",
   "metadata": {},
   "source": [
    "about_placeslived = fun_driver.find_element(by=\"css selector\", value = \".xqmdsaz\").text\n",
    "dict_person[\"Places Lived (About)\"] = about_placeslived\n",
    "about_placeslived\n",
    "# Should be placed into a list"
   ]
  },
  {
   "cell_type": "markdown",
   "metadata": {},
   "source": [
    "##### #4 Contact and basic info"
   ]
  },
  {
   "cell_type": "markdown",
   "metadata": {},
   "source": [
    "fun_driver.find_element(by=\"css selector\", value = \".x16jcvb6 > div:nth-child(5) > a:nth-child(1)\").click()"
   ]
  },
  {
   "cell_type": "markdown",
   "metadata": {},
   "source": [
    "about_contact = fun_driver.find_element(by=\"css selector\", value = \".xqmdsaz\").text\n",
    "dict_person[\"Contact and basic info (About)\"] = about_contact\n",
    "about_contact"
   ]
  },
  {
   "cell_type": "markdown",
   "metadata": {},
   "source": [
    "##### #5 Family and Relationships"
   ]
  },
  {
   "cell_type": "markdown",
   "metadata": {},
   "source": [
    "fun_driver.find_element(by=\"css selector\", value = \".x16jcvb6 > div:nth-child(6) > a:nth-child(1)\").click()"
   ]
  },
  {
   "cell_type": "markdown",
   "metadata": {},
   "source": [
    "about_family = fun_driver.find_element(by=\"css selector\", value = \".xqmdsaz\").text\n",
    "dict_person[\"Family & Relationships (About)\"] = about_family\n",
    "about_family"
   ]
  },
  {
   "cell_type": "markdown",
   "metadata": {},
   "source": [
    "##### #6 Details About"
   ]
  },
  {
   "cell_type": "markdown",
   "metadata": {},
   "source": [
    "fun_driver.find_element(by=\"css selector\", value = \".x16jcvb6 > div:nth-child(7) > a:nth-child(1)\").click()"
   ]
  },
  {
   "cell_type": "markdown",
   "metadata": {},
   "source": [
    "about_details = fun_driver.find_element(by=\"css selector\", value = \".xqmdsaz\").text\n",
    "dict_person[\"Details About Profile (About)\"] = about_details\n",
    "about_details"
   ]
  },
  {
   "cell_type": "markdown",
   "metadata": {},
   "source": [
    "##### #7 Life Events"
   ]
  },
  {
   "cell_type": "markdown",
   "metadata": {},
   "source": [
    "fun_driver.find_element(by=\"css selector\", value = \".x16jcvb6 > div:nth-child(8) > a:nth-child(1)\").click()"
   ]
  },
  {
   "cell_type": "code",
   "execution_count": null,
   "metadata": {},
   "outputs": [],
   "source": [
    "about_overview = fun_driver.find_element(by=\"css selector\", value = \".xqmdsaz\").text\n",
    "dict_person[\"Overview (About)\"] = about_overview\n",
    "about_overview"
   ]
  },
  {
   "cell_type": "code",
   "execution_count": null,
   "metadata": {},
   "outputs": [],
   "source": [
    "        # Calling Dibs on this profile\n",
    "        dict_person = {\"Url_Key\": Url_Key, \"Name\" : \"Scraper # has dibs!\"}\n",
    "        df_scraped = pd.concat([df_scraped, \n",
    "            pd.DataFrame(dict_person, index=[0])], ignore_index=True)\n",
    "        df_scraped.to_csv(\"../Webscrape_Data/scraped_data.csv\", index = False)"
   ]
  },
  {
   "cell_type": "markdown",
   "metadata": {},
   "source": [
    "about_lifeEvents = fun_driver.find_element(by=\"css selector\", value = \".xqmdsaz\").text\n",
    "dict_person[\"Life Events (About)\"] = about_lifeEvents\n",
    "about_lifeEvents"
   ]
  }
 ],
 "metadata": {
  "kernelspec": {
   "display_name": "Python 3",
   "language": "python",
   "name": "python3"
  },
  "language_info": {
   "codemirror_mode": {
    "name": "ipython",
    "version": 3
   },
   "file_extension": ".py",
   "mimetype": "text/x-python",
   "name": "python",
   "nbconvert_exporter": "python",
   "pygments_lexer": "ipython3",
   "version": "3.8.5"
  }
 },
 "nbformat": 4,
 "nbformat_minor": 4
}
