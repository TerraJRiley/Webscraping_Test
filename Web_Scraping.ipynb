{
 "cells": [
  {
   "cell_type": "code",
   "execution_count": 1,
   "metadata": {},
   "outputs": [],
   "source": [
    "# Standard Imports for all notebooks\n",
    "import pandas as pd\n",
    "import numpy as np\n",
    "\n",
    "# Scraping Libraries\n",
    "from bs4 import BeautifulSoup\n",
    "import requests\n",
    "from selenium import webdriver\n",
    "from time import sleep\n",
    "import re\n",
    "from random import randint\n",
    "from selenium.webdriver.firefox.options import Options\n",
    "\n",
    "# Specific Imports as a result of ChatGPT's Suggested Code Functions\n",
    "from selenium.common.exceptions import StaleElementReferenceException, NoSuchElementException, TimeoutException\n",
    "from selenium.webdriver.common.by import By\n",
    "from selenium.webdriver.support.ui import WebDriverWait\n",
    "from selenium.webdriver.support import expected_conditions as EC\n"
   ]
  },
  {
   "cell_type": "code",
   "execution_count": 2,
   "metadata": {},
   "outputs": [],
   "source": [
    "def click_with_retry(driver, css_selector, max_attempts=5, wait_time=5, extra_scroll=150):\n",
    "    \"\"\"\n",
    "    Tries to find and click an element specified by the CSS selector.\n",
    "    Waits for the element to be visible and clickable.\n",
    "    Retries up to max_attempts times if StaleElementReferenceException is encountered.\n",
    "\n",
    "    :param driver: The Selenium WebDriver.\n",
    "    :param css_selector: CSS selector of the element to be clicked.\n",
    "    :param max_attempts: Maximum number of attempts to try clicking the element.\n",
    "    :param wait_time: Time to wait for the element to become visible and clickable.\n",
    "    :return: True if click was successful, False if it failed after max_attempts.\n",
    "    \"\"\"\n",
    "    for attempt in range(max_attempts):\n",
    "        try:\n",
    "            # Wait for the element to be visible\n",
    "            element = WebDriverWait(driver, wait_time).until(\n",
    "                EC.visibility_of_element_located((By.CSS_SELECTOR, css_selector))\n",
    "            )\n",
    "\n",
    "            # Scroll the element into view with extra space\n",
    "            driver.execute_script(\"window.scroll(0, arguments[0].getBoundingClientRect().top + window.pageYOffset - arguments[1]);\", element, extra_scroll)\n",
    "\n",
    "            # Wait for the element to be clickable\n",
    "            WebDriverWait(driver, wait_time).until(\n",
    "                EC.element_to_be_clickable((By.CSS_SELECTOR, css_selector))\n",
    "            )\n",
    "\n",
    "            # Click the element\n",
    "            element.click()\n",
    "            return True\n",
    "\n",
    "        except (StaleElementReferenceException, TimeoutException):\n",
    "            pass\n",
    "\n",
    "    return False"
   ]
  },
  {
   "cell_type": "code",
   "execution_count": 3,
   "metadata": {},
   "outputs": [],
   "source": [
    "def get_text_with_retry(driver, css_selector, max_attempts=5, wait_time=3, extra_scroll=150):\n",
    "    \"\"\"\n",
    "    Tries to find an element specified by the CSS selector and get its text.\n",
    "    Waits for the element to be visible.\n",
    "    Retries up to max_attempts times if StaleElementReferenceException is encountered.\n",
    "\n",
    "    :param driver: The Selenium WebDriver.\n",
    "    :param css_selector: CSS selector of the element.\n",
    "    :param max_attempts: Maximum number of attempts to try getting the text.\n",
    "    :param wait_time: Time to wait for the element to become visible.\n",
    "    :return: The text of the element if successful, None if it failed after max_attempts.\n",
    "    \"\"\"\n",
    "    for attempt in range(max_attempts):\n",
    "        try:\n",
    "            # Wait for the element to be visible\n",
    "            element = WebDriverWait(driver, wait_time).until(\n",
    "                EC.visibility_of_element_located((By.CSS_SELECTOR, css_selector))\n",
    "            )\n",
    "\n",
    "            # Scroll the element into view with extra space\n",
    "            driver.execute_script(\n",
    "                \"window.scroll(0, arguments[0].getBoundingClientRect().top + window.pageYOffset - arguments[1]);\", \n",
    "                element, extra_scroll)\n",
    "\n",
    "            # Return the text of the element\n",
    "            return element.text\n",
    "\n",
    "        except (StaleElementReferenceException, NoSuchElementException, TimeoutException):\n",
    "            pass\n",
    "\n",
    "    return None"
   ]
  },
  {
   "cell_type": "code",
   "execution_count": 4,
   "metadata": {},
   "outputs": [
    {
     "ename": "WebDriverException",
     "evalue": "Message: Process unexpectedly closed with status 0\n",
     "output_type": "error",
     "traceback": [
      "\u001b[1;31m---------------------------------------------------------------------------\u001b[0m",
      "\u001b[1;31mWebDriverException\u001b[0m                        Traceback (most recent call last)",
      "\u001b[1;32m<ipython-input-4-27347f76b7a3>\u001b[0m in \u001b[0;36m<module>\u001b[1;34m\u001b[0m\n\u001b[0;32m      1\u001b[0m \u001b[1;31m# Open the Selenium Window\u001b[0m\u001b[1;33m\u001b[0m\u001b[1;33m\u001b[0m\u001b[1;33m\u001b[0m\u001b[0m\n\u001b[0;32m      2\u001b[0m \u001b[0mfun_options\u001b[0m \u001b[1;33m=\u001b[0m \u001b[0mOptions\u001b[0m\u001b[1;33m(\u001b[0m\u001b[1;33m)\u001b[0m\u001b[1;33m\u001b[0m\u001b[1;33m\u001b[0m\u001b[0m\n\u001b[1;32m----> 3\u001b[1;33m \u001b[0mfun_driver\u001b[0m \u001b[1;33m=\u001b[0m \u001b[0mwebdriver\u001b[0m\u001b[1;33m.\u001b[0m\u001b[0mFirefox\u001b[0m\u001b[1;33m(\u001b[0m\u001b[0moptions\u001b[0m\u001b[1;33m=\u001b[0m\u001b[0mfun_options\u001b[0m\u001b[1;33m)\u001b[0m\u001b[1;33m\u001b[0m\u001b[1;33m\u001b[0m\u001b[0m\n\u001b[0m\u001b[0;32m      4\u001b[0m \u001b[0mfun_driver\u001b[0m\u001b[1;33m.\u001b[0m\u001b[0mget\u001b[0m\u001b[1;33m(\u001b[0m\u001b[1;34m\"https://www.facebook.com/\"\u001b[0m\u001b[1;33m)\u001b[0m\u001b[1;33m\u001b[0m\u001b[1;33m\u001b[0m\u001b[0m\n",
      "\u001b[1;32m~\\anaconda3\\lib\\site-packages\\selenium\\webdriver\\firefox\\webdriver.py\u001b[0m in \u001b[0;36m__init__\u001b[1;34m(self, options, service, keep_alive)\u001b[0m\n\u001b[0;32m     66\u001b[0m             \u001b[0mkeep_alive\u001b[0m\u001b[1;33m=\u001b[0m\u001b[0mself\u001b[0m\u001b[1;33m.\u001b[0m\u001b[0mkeep_alive\u001b[0m\u001b[1;33m,\u001b[0m\u001b[1;33m\u001b[0m\u001b[1;33m\u001b[0m\u001b[0m\n\u001b[0;32m     67\u001b[0m         )\n\u001b[1;32m---> 68\u001b[1;33m         \u001b[0msuper\u001b[0m\u001b[1;33m(\u001b[0m\u001b[1;33m)\u001b[0m\u001b[1;33m.\u001b[0m\u001b[0m__init__\u001b[0m\u001b[1;33m(\u001b[0m\u001b[0mcommand_executor\u001b[0m\u001b[1;33m=\u001b[0m\u001b[0mexecutor\u001b[0m\u001b[1;33m,\u001b[0m \u001b[0moptions\u001b[0m\u001b[1;33m=\u001b[0m\u001b[0mself\u001b[0m\u001b[1;33m.\u001b[0m\u001b[0moptions\u001b[0m\u001b[1;33m)\u001b[0m\u001b[1;33m\u001b[0m\u001b[1;33m\u001b[0m\u001b[0m\n\u001b[0m\u001b[0;32m     69\u001b[0m \u001b[1;33m\u001b[0m\u001b[0m\n\u001b[0;32m     70\u001b[0m         \u001b[0mself\u001b[0m\u001b[1;33m.\u001b[0m\u001b[0m_is_remote\u001b[0m \u001b[1;33m=\u001b[0m \u001b[1;32mFalse\u001b[0m\u001b[1;33m\u001b[0m\u001b[1;33m\u001b[0m\u001b[0m\n",
      "\u001b[1;32m~\\anaconda3\\lib\\site-packages\\selenium\\webdriver\\remote\\webdriver.py\u001b[0m in \u001b[0;36m__init__\u001b[1;34m(self, command_executor, keep_alive, file_detector, options)\u001b[0m\n\u001b[0;32m    204\u001b[0m         \u001b[0mself\u001b[0m\u001b[1;33m.\u001b[0m\u001b[0m_authenticator_id\u001b[0m \u001b[1;33m=\u001b[0m \u001b[1;32mNone\u001b[0m\u001b[1;33m\u001b[0m\u001b[1;33m\u001b[0m\u001b[0m\n\u001b[0;32m    205\u001b[0m         \u001b[0mself\u001b[0m\u001b[1;33m.\u001b[0m\u001b[0mstart_client\u001b[0m\u001b[1;33m(\u001b[0m\u001b[1;33m)\u001b[0m\u001b[1;33m\u001b[0m\u001b[1;33m\u001b[0m\u001b[0m\n\u001b[1;32m--> 206\u001b[1;33m         \u001b[0mself\u001b[0m\u001b[1;33m.\u001b[0m\u001b[0mstart_session\u001b[0m\u001b[1;33m(\u001b[0m\u001b[0mcapabilities\u001b[0m\u001b[1;33m)\u001b[0m\u001b[1;33m\u001b[0m\u001b[1;33m\u001b[0m\u001b[0m\n\u001b[0m\u001b[0;32m    207\u001b[0m \u001b[1;33m\u001b[0m\u001b[0m\n\u001b[0;32m    208\u001b[0m     \u001b[1;32mdef\u001b[0m \u001b[0m__repr__\u001b[0m\u001b[1;33m(\u001b[0m\u001b[0mself\u001b[0m\u001b[1;33m)\u001b[0m\u001b[1;33m:\u001b[0m\u001b[1;33m\u001b[0m\u001b[1;33m\u001b[0m\u001b[0m\n",
      "\u001b[1;32m~\\anaconda3\\lib\\site-packages\\selenium\\webdriver\\remote\\webdriver.py\u001b[0m in \u001b[0;36mstart_session\u001b[1;34m(self, capabilities)\u001b[0m\n\u001b[0;32m    289\u001b[0m \u001b[1;33m\u001b[0m\u001b[0m\n\u001b[0;32m    290\u001b[0m         \u001b[0mcaps\u001b[0m \u001b[1;33m=\u001b[0m \u001b[0m_create_caps\u001b[0m\u001b[1;33m(\u001b[0m\u001b[0mcapabilities\u001b[0m\u001b[1;33m)\u001b[0m\u001b[1;33m\u001b[0m\u001b[1;33m\u001b[0m\u001b[0m\n\u001b[1;32m--> 291\u001b[1;33m         \u001b[0mresponse\u001b[0m \u001b[1;33m=\u001b[0m \u001b[0mself\u001b[0m\u001b[1;33m.\u001b[0m\u001b[0mexecute\u001b[0m\u001b[1;33m(\u001b[0m\u001b[0mCommand\u001b[0m\u001b[1;33m.\u001b[0m\u001b[0mNEW_SESSION\u001b[0m\u001b[1;33m,\u001b[0m \u001b[0mcaps\u001b[0m\u001b[1;33m)\u001b[0m\u001b[1;33m[\u001b[0m\u001b[1;34m\"value\"\u001b[0m\u001b[1;33m]\u001b[0m\u001b[1;33m\u001b[0m\u001b[1;33m\u001b[0m\u001b[0m\n\u001b[0m\u001b[0;32m    292\u001b[0m         \u001b[0mself\u001b[0m\u001b[1;33m.\u001b[0m\u001b[0msession_id\u001b[0m \u001b[1;33m=\u001b[0m \u001b[0mresponse\u001b[0m\u001b[1;33m.\u001b[0m\u001b[0mget\u001b[0m\u001b[1;33m(\u001b[0m\u001b[1;34m\"sessionId\"\u001b[0m\u001b[1;33m)\u001b[0m\u001b[1;33m\u001b[0m\u001b[1;33m\u001b[0m\u001b[0m\n\u001b[0;32m    293\u001b[0m         \u001b[0mself\u001b[0m\u001b[1;33m.\u001b[0m\u001b[0mcaps\u001b[0m \u001b[1;33m=\u001b[0m \u001b[0mresponse\u001b[0m\u001b[1;33m.\u001b[0m\u001b[0mget\u001b[0m\u001b[1;33m(\u001b[0m\u001b[1;34m\"capabilities\"\u001b[0m\u001b[1;33m)\u001b[0m\u001b[1;33m\u001b[0m\u001b[1;33m\u001b[0m\u001b[0m\n",
      "\u001b[1;32m~\\anaconda3\\lib\\site-packages\\selenium\\webdriver\\remote\\webdriver.py\u001b[0m in \u001b[0;36mexecute\u001b[1;34m(self, driver_command, params)\u001b[0m\n\u001b[0;32m    344\u001b[0m         \u001b[0mresponse\u001b[0m \u001b[1;33m=\u001b[0m \u001b[0mself\u001b[0m\u001b[1;33m.\u001b[0m\u001b[0mcommand_executor\u001b[0m\u001b[1;33m.\u001b[0m\u001b[0mexecute\u001b[0m\u001b[1;33m(\u001b[0m\u001b[0mdriver_command\u001b[0m\u001b[1;33m,\u001b[0m \u001b[0mparams\u001b[0m\u001b[1;33m)\u001b[0m\u001b[1;33m\u001b[0m\u001b[1;33m\u001b[0m\u001b[0m\n\u001b[0;32m    345\u001b[0m         \u001b[1;32mif\u001b[0m \u001b[0mresponse\u001b[0m\u001b[1;33m:\u001b[0m\u001b[1;33m\u001b[0m\u001b[1;33m\u001b[0m\u001b[0m\n\u001b[1;32m--> 346\u001b[1;33m             \u001b[0mself\u001b[0m\u001b[1;33m.\u001b[0m\u001b[0merror_handler\u001b[0m\u001b[1;33m.\u001b[0m\u001b[0mcheck_response\u001b[0m\u001b[1;33m(\u001b[0m\u001b[0mresponse\u001b[0m\u001b[1;33m)\u001b[0m\u001b[1;33m\u001b[0m\u001b[1;33m\u001b[0m\u001b[0m\n\u001b[0m\u001b[0;32m    347\u001b[0m             \u001b[0mresponse\u001b[0m\u001b[1;33m[\u001b[0m\u001b[1;34m\"value\"\u001b[0m\u001b[1;33m]\u001b[0m \u001b[1;33m=\u001b[0m \u001b[0mself\u001b[0m\u001b[1;33m.\u001b[0m\u001b[0m_unwrap_value\u001b[0m\u001b[1;33m(\u001b[0m\u001b[0mresponse\u001b[0m\u001b[1;33m.\u001b[0m\u001b[0mget\u001b[0m\u001b[1;33m(\u001b[0m\u001b[1;34m\"value\"\u001b[0m\u001b[1;33m,\u001b[0m \u001b[1;32mNone\u001b[0m\u001b[1;33m)\u001b[0m\u001b[1;33m)\u001b[0m\u001b[1;33m\u001b[0m\u001b[1;33m\u001b[0m\u001b[0m\n\u001b[0;32m    348\u001b[0m             \u001b[1;32mreturn\u001b[0m \u001b[0mresponse\u001b[0m\u001b[1;33m\u001b[0m\u001b[1;33m\u001b[0m\u001b[0m\n",
      "\u001b[1;32m~\\anaconda3\\lib\\site-packages\\selenium\\webdriver\\remote\\errorhandler.py\u001b[0m in \u001b[0;36mcheck_response\u001b[1;34m(self, response)\u001b[0m\n\u001b[0;32m    243\u001b[0m                 \u001b[0malert_text\u001b[0m \u001b[1;33m=\u001b[0m \u001b[0mvalue\u001b[0m\u001b[1;33m[\u001b[0m\u001b[1;34m\"alert\"\u001b[0m\u001b[1;33m]\u001b[0m\u001b[1;33m.\u001b[0m\u001b[0mget\u001b[0m\u001b[1;33m(\u001b[0m\u001b[1;34m\"text\"\u001b[0m\u001b[1;33m)\u001b[0m\u001b[1;33m\u001b[0m\u001b[1;33m\u001b[0m\u001b[0m\n\u001b[0;32m    244\u001b[0m             \u001b[1;32mraise\u001b[0m \u001b[0mexception_class\u001b[0m\u001b[1;33m(\u001b[0m\u001b[0mmessage\u001b[0m\u001b[1;33m,\u001b[0m \u001b[0mscreen\u001b[0m\u001b[1;33m,\u001b[0m \u001b[0mstacktrace\u001b[0m\u001b[1;33m,\u001b[0m \u001b[0malert_text\u001b[0m\u001b[1;33m)\u001b[0m  \u001b[1;31m# type: ignore[call-arg]  # mypy is not smart enough here\u001b[0m\u001b[1;33m\u001b[0m\u001b[1;33m\u001b[0m\u001b[0m\n\u001b[1;32m--> 245\u001b[1;33m         \u001b[1;32mraise\u001b[0m \u001b[0mexception_class\u001b[0m\u001b[1;33m(\u001b[0m\u001b[0mmessage\u001b[0m\u001b[1;33m,\u001b[0m \u001b[0mscreen\u001b[0m\u001b[1;33m,\u001b[0m \u001b[0mstacktrace\u001b[0m\u001b[1;33m)\u001b[0m\u001b[1;33m\u001b[0m\u001b[1;33m\u001b[0m\u001b[0m\n\u001b[0m",
      "\u001b[1;31mWebDriverException\u001b[0m: Message: Process unexpectedly closed with status 0\n"
     ]
    }
   ],
   "source": [
    "# Open the Selenium Window\n",
    "fun_options = Options()\n",
    "fun_driver = webdriver.Firefox(options=fun_options)\n",
    "fun_driver.get(\"https://www.facebook.com/\")"
   ]
  },
  {
   "cell_type": "code",
   "execution_count": null,
   "metadata": {},
   "outputs": [],
   "source": [
    "df_sample = pd.read_csv(\"../Webscrape_Data/sample_edited.txt\", sep=\":\", header=None, \n",
    "                        names=[\"Other_Number\", \"Url_Key\", \"Name_First\", \"Name_Last\", \"Gender\",\n",
    "                               \"1\",\"2\",\"3\",\"4\",\"5\",\"6\",\"7\",\"8\",\"9\"])\n",
    "df_sample['Url_Key'] = df_sample['Url_Key'].astype(str)\n",
    "\n",
    "df_sample.head()"
   ]
  },
  {
   "cell_type": "code",
   "execution_count": null,
   "metadata": {},
   "outputs": [],
   "source": [
    "df_scraped = pd.read_csv(\"../Webscrape_Data/scraped_data.csv\")\n",
    "df_scraped.tail(5)"
   ]
  },
  {
   "cell_type": "code",
   "execution_count": null,
   "metadata": {},
   "outputs": [],
   "source": [
    "df_scraped.shape"
   ]
  },
  {
   "cell_type": "code",
   "execution_count": null,
   "metadata": {
    "scrolled": true
   },
   "outputs": [],
   "source": [
    "df_sample = df_sample.iloc[(df_scraped.shape[0] - 10):]\n",
    "\n",
    "for Url_Key in df_sample['Url_Key']:\n",
    "    sleep(0.5 + randint(10,9999999)/10000000)\n",
    "    # Check if Url_Key is not in df_scraped\n",
    "    df_scraped = pd.read_csv(\"../Webscrape_Data/scraped_data.csv\", error_bad_lines=False)\n",
    "    df_scraped['Url_Key'] = df_scraped['Url_Key'].astype(str)\n",
    "    Url_Key = str(Url_Key)\n",
    "    if Url_Key not in df_scraped['Url_Key'].values:\n",
    "        \n",
    "        # Calling Dibs on this profile\n",
    "        dict_person = {\"Url_Key\": Url_Key, \"Name\" : \"Scraper 0 has dibs!\"}\n",
    "        df_scraped = pd.concat([df_scraped, \n",
    "            pd.DataFrame(dict_person, index=[0])], ignore_index=True)\n",
    "        df_scraped.to_csv(\"../Webscrape_Data/scraped_data.csv\", index = False)\n",
    "        \n",
    "        \n",
    "        fun_driver.get(\"https://www.facebook.com/\" + Url_Key)\n",
    "        # Gather data using Url_Key\n",
    "        dict_person = {\"Url_Key\" : Url_Key}\n",
    "        try:\n",
    "            # Obtain Profile Picture\n",
    "            dict_person[\"Profile Picture Link\"] = fun_driver.find_element(by=\"css selector\", \n",
    "                value = \"a.xzsf02u > div:nth-child(1) > svg:nth-child(1) > g:nth-child(2) > image:nth-child(1)\"\n",
    "                ).get_attribute(\"xlink:href\")\n",
    "\n",
    "            # Obtain Name\n",
    "            dict_person[\"Name\"] = get_text_with_retry(fun_driver, \".x14qwyeo > h1:nth-child(1)\")\n",
    "\n",
    "            # Obtain Number of Friends\n",
    "            dict_person[\"Num_Friends\"] = int(get_text_with_retry(fun_driver, \"a.xi81zsa\").split(\" \")[0])\n",
    "\n",
    "            # Obtain Intro Lines\n",
    "            html_current = BeautifulSoup(fun_driver.page_source, \"lxml\")\n",
    "            list_intro_el = html_current.select(\n",
    "                \"div.x7wzq59:nth-child(2) > div:nth-child(1) > div:nth-child(1) > div:nth-child(1) > div:nth-child(1) >\"\n",
    "                + \" div:nth-child(1) > div:nth-child(1) > div:nth-child(2) > div:nth-child(1) > div:nth-child(1) >\"\n",
    "                + \" ul:nth-child(1) > div\")\n",
    "            for num in range(len(list_intro_el)):\n",
    "                dict_person[\"Intro \" + str(num + 1)] = list_intro_el[num].text\n",
    "                #print(list_intro_el[num].text)\n",
    "\n",
    "\n",
    "            # Click About Tab\n",
    "            click_with_retry(fun_driver, \"a.x1i10hfl:nth-child(3) > div:nth-child(1) > span:nth-child(1)\")\n",
    "            #Get Overview Section First\n",
    "            dict_person[\"Overview (About)\"] = get_text_with_retry(fun_driver, \".xqmdsaz\")\n",
    "            \n",
    "            # Obtain About Section\n",
    "            for num in range(3, 9):\n",
    "                css_selector_to_click = \".x16jcvb6 > div:nth-child(\" + str(num) + \") > a:nth-child(1)\"\n",
    "                click_with_retry(fun_driver, css_selector_to_click)\n",
    "                el_temp = fun_driver.find_element(by=\"css selector\", value=css_selector_to_click)\n",
    "                el_temp_text = el_temp.text\n",
    "                css_path_content = \".xqmdsaz\"\n",
    "                content_text = get_text_with_retry(fun_driver, css_path_content)\n",
    "                if content_text is not None:\n",
    "                    dict_person[el_temp_text] = content_text\n",
    "                    #print(\"element's text hath been saved!\")\n",
    "                else:\n",
    "                    print(\"Failed to retrieve text for element:\", el_temp_text)\n",
    "        except:\n",
    "            dict_person = {\"Url_Key\": Url_Key, \"Name\" : \"Scrape Failed\"}\n",
    "        \n",
    "        \n",
    "        # Append the new data to df_scraped\n",
    "        df_scraped = pd.concat([df_scraped, \n",
    "            pd.DataFrame(dict_person, index=[0])], ignore_index=True)\n",
    "        df_scraped.to_csv(\"../Webscrape_Data/scraped_data.csv\", index = False)\n",
    "    \n",
    "    else:\n",
    "        # Skip the data gathering process\n",
    "        print(f\"URL key {Url_Key} already exists in df_scraped, skipping data gathering.\")\n"
   ]
  },
  {
   "cell_type": "code",
   "execution_count": null,
   "metadata": {},
   "outputs": [],
   "source": []
  },
  {
   "cell_type": "code",
   "execution_count": null,
   "metadata": {},
   "outputs": [],
   "source": []
  },
  {
   "cell_type": "code",
   "execution_count": null,
   "metadata": {},
   "outputs": [],
   "source": []
  },
  {
   "cell_type": "code",
   "execution_count": null,
   "metadata": {},
   "outputs": [],
   "source": []
  },
  {
   "cell_type": "code",
   "execution_count": null,
   "metadata": {},
   "outputs": [],
   "source": []
  },
  {
   "cell_type": "code",
   "execution_count": null,
   "metadata": {},
   "outputs": [],
   "source": []
  },
  {
   "cell_type": "code",
   "execution_count": null,
   "metadata": {},
   "outputs": [],
   "source": []
  },
  {
   "cell_type": "code",
   "execution_count": null,
   "metadata": {},
   "outputs": [],
   "source": []
  },
  {
   "cell_type": "code",
   "execution_count": null,
   "metadata": {},
   "outputs": [],
   "source": []
  },
  {
   "cell_type": "markdown",
   "metadata": {},
   "source": [
    "# Original Test Scraping"
   ]
  },
  {
   "cell_type": "code",
   "execution_count": null,
   "metadata": {},
   "outputs": [],
   "source": [
    "Url_Key = \"596897507\""
   ]
  },
  {
   "cell_type": "code",
   "execution_count": null,
   "metadata": {},
   "outputs": [],
   "source": [
    "fun_driver.get(\"https://www.facebook.com/\" + Url_Key)"
   ]
  },
  {
   "cell_type": "code",
   "execution_count": null,
   "metadata": {},
   "outputs": [],
   "source": [
    "dict_person = {}\n",
    "# Need to obtain the following:\n",
    "# Profile Picture\n"
   ]
  },
  {
   "cell_type": "code",
   "execution_count": null,
   "metadata": {},
   "outputs": [],
   "source": [
    "dict_person[\"Url_Key\"] = Url_Key"
   ]
  },
  {
   "cell_type": "code",
   "execution_count": null,
   "metadata": {},
   "outputs": [],
   "source": [
    "# Obtain Profile Picture\n",
    "dict_person[\"Profile Picture Link\"] = fun_driver.find_element(by=\"css selector\", \n",
    "    value = \"a.xzsf02u > div:nth-child(1) > svg:nth-child(1) > g:nth-child(2) > image:nth-child(1)\"\n",
    "    ).get_attribute(\"xlink:href\")"
   ]
  },
  {
   "cell_type": "code",
   "execution_count": null,
   "metadata": {},
   "outputs": [],
   "source": [
    "# Obtain Name\n",
    "dict_person[\"Name\"] = get_text_with_retry(fun_driver, \".x14qwyeo > h1:nth-child(1)\")"
   ]
  },
  {
   "cell_type": "code",
   "execution_count": null,
   "metadata": {},
   "outputs": [],
   "source": [
    "# Obtain Number of Friends\n",
    "dict_person[\"Num_Friends\"] = int(get_text_with_retry(fun_driver, \"a.xi81zsa\").split(\" \")[0])"
   ]
  },
  {
   "cell_type": "code",
   "execution_count": null,
   "metadata": {},
   "outputs": [],
   "source": [
    "# Obtain Intro Lines\n",
    "html_current = BeautifulSoup(fun_driver.page_source, \"lxml\")\n",
    "\n",
    "list_intro_el = html_current.select(\n",
    "    \"div.x7wzq59:nth-child(2) > div:nth-child(1) > div:nth-child(1) > div:nth-child(1) > div:nth-child(1) >\"\n",
    "    + \" div:nth-child(1) > div:nth-child(1) > div:nth-child(2) > div:nth-child(1) > div:nth-child(1) >\"\n",
    "    + \" ul:nth-child(1) > div\")\n",
    "\n",
    "for num in range(len(list_intro_el)):\n",
    "    dict_person[\"Intro \" + str(num + 1)] = list_intro_el[num].text\n",
    "    print(list_intro_el[num].text)"
   ]
  },
  {
   "cell_type": "code",
   "execution_count": null,
   "metadata": {},
   "outputs": [],
   "source": [
    "# Click About Tab\n",
    "click_with_retry(fun_driver, \"a.x1i10hfl:nth-child(3) > div:nth-child(1) > span:nth-child(1)\")\n",
    "\n",
    "#Get Overview Section First\n",
    "dict_person[\"Overview (About)\"] = get_text_with_retry(fun_driver, \".xqmdsaz\")"
   ]
  },
  {
   "cell_type": "code",
   "execution_count": null,
   "metadata": {},
   "outputs": [],
   "source": [
    "\n",
    "# Obtain About Section\n",
    "for num in range(3, 9):\n",
    "    print(\"---------------------------------\")\n",
    "    \n",
    "    # CSS selector for the current element to click\n",
    "    css_selector_to_click = \".x16jcvb6 > div:nth-child(\" + str(num) + \") > a:nth-child(1)\"\n",
    "    \n",
    "    # Clicking the next About Sub-Section\n",
    "    click_with_retry(fun_driver, css_selector_to_click)\n",
    "    \n",
    "    # Re-find the element to avoid stale reference\n",
    "    el_temp = fun_driver.find_element(by=\"css selector\", value=css_selector_to_click)\n",
    "    el_temp_text = el_temp.text\n",
    "    print(\"temp el: \" + el_temp_text + \" clicked\")\n",
    "    \n",
    "    # Consuming its informational content\n",
    "    css_path_content = \".xqmdsaz\"\n",
    "    content_text = get_text_with_retry(fun_driver, css_path_content)\n",
    "    if content_text is not None:\n",
    "        dict_person[el_temp_text] = content_text\n",
    "        print(\"element's text hath been saved!\")\n",
    "    else:\n",
    "        print(\"Failed to retrieve text for element:\", el_temp_text)\n"
   ]
  },
  {
   "cell_type": "code",
   "execution_count": null,
   "metadata": {},
   "outputs": [],
   "source": [
    "df_scraped = pd.DataFrame(dict_person, index=[0])\n",
    "df_scraped"
   ]
  },
  {
   "cell_type": "code",
   "execution_count": null,
   "metadata": {},
   "outputs": [],
   "source": [
    "df_scraped.to_csv(\"../Webscrape_Data/scraped_data.csv\", index = False)"
   ]
  },
  {
   "cell_type": "code",
   "execution_count": null,
   "metadata": {},
   "outputs": [],
   "source": [
    "pd.read_csv(\"../Webscrape_Data/scraped_data.csv\")"
   ]
  },
  {
   "cell_type": "code",
   "execution_count": null,
   "metadata": {},
   "outputs": [],
   "source": []
  },
  {
   "cell_type": "code",
   "execution_count": null,
   "metadata": {},
   "outputs": [],
   "source": []
  },
  {
   "cell_type": "code",
   "execution_count": null,
   "metadata": {},
   "outputs": [],
   "source": []
  },
  {
   "cell_type": "code",
   "execution_count": null,
   "metadata": {},
   "outputs": [],
   "source": []
  },
  {
   "cell_type": "code",
   "execution_count": null,
   "metadata": {},
   "outputs": [],
   "source": []
  },
  {
   "cell_type": "code",
   "execution_count": null,
   "metadata": {},
   "outputs": [],
   "source": []
  },
  {
   "cell_type": "code",
   "execution_count": null,
   "metadata": {},
   "outputs": [],
   "source": []
  },
  {
   "cell_type": "code",
   "execution_count": null,
   "metadata": {},
   "outputs": [],
   "source": []
  },
  {
   "cell_type": "code",
   "execution_count": null,
   "metadata": {},
   "outputs": [],
   "source": []
  },
  {
   "cell_type": "markdown",
   "metadata": {},
   "source": [
    "# Code Recycling"
   ]
  },
  {
   "cell_type": "markdown",
   "metadata": {},
   "source": [
    "from selenium.common.exceptions import StaleElementReferenceException\n",
    "from selenium.webdriver.support.ui import WebDriverWait\n",
    "from selenium.webdriver.support import expected_conditions as EC\n",
    "from selenium.webdriver.common.by import By"
   ]
  },
  {
   "cell_type": "markdown",
   "metadata": {},
   "source": [
    "def fun_extended_wait(css_selector, driver):\n",
    "    locator = (By.CSS_SELECTOR, css_selector)\n",
    "    try:\n",
    "        # Wait for the element to be available and interact with it\n",
    "        element = WebDriverWait(driver, 10).until(EC.presence_of_element_located(locator))\n",
    "        # Perform actions with element\n",
    "    except StaleElementReferenceException:\n",
    "        # Element is stale, re-find or handle the exception\n",
    "        element = WebDriverWait(driver, 10).until(EC.presence_of_element_located(locator))\n",
    "        # Perform actions with refreshed element\n",
    "    sleep(1 + randint(10,9999999)/10000000)\n",
    "    return"
   ]
  },
  {
   "cell_type": "markdown",
   "metadata": {},
   "source": [
    "for num in range(3,8):\n",
    "    print(\"---------------------------------\")\n",
    "    \n",
    "    # Clicking next About Sub-Section\n",
    "    css_path = \".x16jcvb6 > div:nth-child(\" + str(num) + \") > a:nth-child(1)\"\n",
    "    fun_extended_wait(css_path, fun_driver)\n",
    "    sleep(3 + randint(10,9999999)/10000000)\n",
    "    el_temp = fun_driver.find_element(by=\"css selector\", value = css_path)\n",
    "    el_temp.click()\n",
    "    print(\"temp el: \" + el_temp.text + \" clicked\")\n",
    "    \n",
    "    # Consuming it's informational meat\n",
    "    css_path = \".xqmdsaz\"\n",
    "    fun_extended_wait(css_path, fun_driver)\n",
    "    dict_person[el_temp.text] = fun_driver.find_element(by=\"css selector\", value = css_path).text\n",
    "    print(\"element's text hath been saved!\")"
   ]
  },
  {
   "cell_type": "code",
   "execution_count": null,
   "metadata": {},
   "outputs": [],
   "source": [
    "#import matplotlib.pyplot as plt\n",
    "#import seaborn as sns\n",
    "#%matplotlib inline\n",
    "#import warnings\n",
    "#warnings.filterwarnings('ignore')"
   ]
  },
  {
   "cell_type": "markdown",
   "metadata": {},
   "source": [
    "def open_browser(alt_user_name = 'Thank you for your website'):\n",
    "    path = '../Garage/chromedriver'         # Path to Chromedriver\n",
    "    return webdriver.Chrome(executable_path = path)\n",
    "\n",
    "def open_browser(alt_user_name = 'Thank you for your website'):\n",
    "    opts = Options()\n",
    "    opts.add_argument(\"user-agent=\" + str(alt_user_name))\n",
    "    path = '../Garage/chromedriver'         # Path to Chromedriver\n",
    "    return webdriver.Chrome(executable_path = path, options=opts)"
   ]
  },
  {
   "cell_type": "markdown",
   "metadata": {},
   "source": [
    "for num in range(3,8):\n",
    "    print(\"---------------------------------\")\n",
    "    \n",
    "    # CSS selector for the current element to click\n",
    "    css_selector_to_click = \".x16jcvb6 > div:nth-child(\" + str(num) + \") > a:nth-child(1)\"\n",
    "    \n",
    "    # Clicking the next About Sub-Section\n",
    "    click_with_retry(fun_driver, css_selector_to_click)\n",
    "    \n",
    "    # Re-find the element to avoid stale reference\n",
    "    el_temp = fun_driver.find_element(by=\"css selector\", value=css_selector_to_click)\n",
    "    print(\"temp el: \" + el_temp.text + \" clicked\")\n",
    "    \n",
    "    # Consuming it's informational meat\n",
    "    css_path = \".xqmdsaz\"\n",
    "    #fun_extended_wait(css_path, fun_driver)\n",
    "    dict_person[el_temp.text] = fun_driver.find_element(by=\"css selector\", value = css_path).text\n",
    "    print(\"element's text hath been saved!\")"
   ]
  },
  {
   "cell_type": "markdown",
   "metadata": {},
   "source": [
    "fun_driver.find_element(by=\"css selector\",\n",
    "                        value = \"a.x1i10hfl:nth-child(3) > div:nth-child(1) > span:nth-child(1)\").click()"
   ]
  },
  {
   "cell_type": "markdown",
   "metadata": {},
   "source": [
    "about_overview = fun_driver.find_element(by=\"css selector\", value = \".xqmdsaz\").text\n",
    "dict_person[\"Overview (About)\"] = about_overview\n",
    "about_overview"
   ]
  },
  {
   "cell_type": "markdown",
   "metadata": {},
   "source": [
    "##### #2 Work & Education"
   ]
  },
  {
   "cell_type": "markdown",
   "metadata": {},
   "source": [
    "fun_driver.find_element(by=\"css selector\", value = \".x16jcvb6 > div:nth-child(3) > a:nth-child(1)\").click()"
   ]
  },
  {
   "cell_type": "markdown",
   "metadata": {},
   "source": [
    "about_workanded = fun_driver.find_element(by=\"css selector\", value = \".xqmdsaz\").text\n",
    "dict_person[\"Work & Education (About)\"] = about_workanded\n",
    "about_workanded"
   ]
  },
  {
   "cell_type": "markdown",
   "metadata": {},
   "source": [
    "##### #3 Places Lived"
   ]
  },
  {
   "cell_type": "markdown",
   "metadata": {},
   "source": [
    "fun_driver.find_element(by=\"css selector\", value = \".x16jcvb6 > div:nth-child(4) > a:nth-child(1)\").click()"
   ]
  },
  {
   "cell_type": "markdown",
   "metadata": {},
   "source": [
    "about_placeslived = fun_driver.find_element(by=\"css selector\", value = \".xqmdsaz\").text\n",
    "dict_person[\"Places Lived (About)\"] = about_placeslived\n",
    "about_placeslived\n",
    "# Should be placed into a list"
   ]
  },
  {
   "cell_type": "markdown",
   "metadata": {},
   "source": [
    "##### #4 Contact and basic info"
   ]
  },
  {
   "cell_type": "markdown",
   "metadata": {},
   "source": [
    "fun_driver.find_element(by=\"css selector\", value = \".x16jcvb6 > div:nth-child(5) > a:nth-child(1)\").click()"
   ]
  },
  {
   "cell_type": "markdown",
   "metadata": {},
   "source": [
    "about_contact = fun_driver.find_element(by=\"css selector\", value = \".xqmdsaz\").text\n",
    "dict_person[\"Contact and basic info (About)\"] = about_contact\n",
    "about_contact"
   ]
  },
  {
   "cell_type": "markdown",
   "metadata": {},
   "source": [
    "##### #5 Family and Relationships"
   ]
  },
  {
   "cell_type": "markdown",
   "metadata": {},
   "source": [
    "fun_driver.find_element(by=\"css selector\", value = \".x16jcvb6 > div:nth-child(6) > a:nth-child(1)\").click()"
   ]
  },
  {
   "cell_type": "markdown",
   "metadata": {},
   "source": [
    "about_family = fun_driver.find_element(by=\"css selector\", value = \".xqmdsaz\").text\n",
    "dict_person[\"Family & Relationships (About)\"] = about_family\n",
    "about_family"
   ]
  },
  {
   "cell_type": "markdown",
   "metadata": {},
   "source": [
    "##### #6 Details About"
   ]
  },
  {
   "cell_type": "markdown",
   "metadata": {},
   "source": [
    "fun_driver.find_element(by=\"css selector\", value = \".x16jcvb6 > div:nth-child(7) > a:nth-child(1)\").click()"
   ]
  },
  {
   "cell_type": "markdown",
   "metadata": {},
   "source": [
    "about_details = fun_driver.find_element(by=\"css selector\", value = \".xqmdsaz\").text\n",
    "dict_person[\"Details About Profile (About)\"] = about_details\n",
    "about_details"
   ]
  },
  {
   "cell_type": "markdown",
   "metadata": {},
   "source": [
    "##### #7 Life Events"
   ]
  },
  {
   "cell_type": "markdown",
   "metadata": {},
   "source": [
    "fun_driver.find_element(by=\"css selector\", value = \".x16jcvb6 > div:nth-child(8) > a:nth-child(1)\").click()"
   ]
  },
  {
   "cell_type": "code",
   "execution_count": null,
   "metadata": {},
   "outputs": [],
   "source": [
    "about_overview = fun_driver.find_element(by=\"css selector\", value = \".xqmdsaz\").text\n",
    "dict_person[\"Overview (About)\"] = about_overview\n",
    "about_overview"
   ]
  },
  {
   "cell_type": "code",
   "execution_count": null,
   "metadata": {},
   "outputs": [],
   "source": [
    "        # Calling Dibs on this profile\n",
    "        dict_person = {\"Url_Key\": Url_Key, \"Name\" : \"Scraper # has dibs!\"}\n",
    "        df_scraped = pd.concat([df_scraped, \n",
    "            pd.DataFrame(dict_person, index=[0])], ignore_index=True)\n",
    "        df_scraped.to_csv(\"../Webscrape_Data/scraped_data.csv\", index = False)"
   ]
  },
  {
   "cell_type": "markdown",
   "metadata": {},
   "source": [
    "about_lifeEvents = fun_driver.find_element(by=\"css selector\", value = \".xqmdsaz\").text\n",
    "dict_person[\"Life Events (About)\"] = about_lifeEvents\n",
    "about_lifeEvents"
   ]
  }
 ],
 "metadata": {
  "kernelspec": {
   "display_name": "Python 3",
   "language": "python",
   "name": "python3"
  },
  "language_info": {
   "codemirror_mode": {
    "name": "ipython",
    "version": 3
   },
   "file_extension": ".py",
   "mimetype": "text/x-python",
   "name": "python",
   "nbconvert_exporter": "python",
   "pygments_lexer": "ipython3",
   "version": "3.8.5"
  }
 },
 "nbformat": 4,
 "nbformat_minor": 4
}
